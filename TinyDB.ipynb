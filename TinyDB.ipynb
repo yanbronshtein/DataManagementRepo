{
 "cells": [
  {
   "cell_type": "code",
   "execution_count": 24,
   "metadata": {},
   "outputs": [],
   "source": [
    "from tinydb import TinyDB, Query\n",
    "import pandas as pd"
   ]
  },
  {
   "cell_type": "code",
   "execution_count": 2,
   "metadata": {},
   "outputs": [],
   "source": [
    "db = TinyDB('yani_db.json')"
   ]
  },
  {
   "cell_type": "code",
   "execution_count": 3,
   "metadata": {},
   "outputs": [
    {
     "data": {
      "text/plain": [
       "6"
      ]
     },
     "execution_count": 3,
     "metadata": {},
     "output_type": "execute_result"
    }
   ],
   "source": [
    "db.insert({'course': 'stats-sw', 'year': 2017, 'students': 11})\n",
    "db.insert({'course': 'stats-sw', 'year': 2018, 'students': 21})"
   ]
  },
  {
   "cell_type": "code",
   "execution_count": 20,
   "metadata": {},
   "outputs": [
    {
     "ename": "NameError",
     "evalue": "name 'course' is not defined",
     "output_type": "error",
     "traceback": [
      "\u001b[0;31m---------------------------------------------------------------------------\u001b[0m",
      "\u001b[0;31mNameError\u001b[0m                                 Traceback (most recent call last)",
      "\u001b[0;32m<ipython-input-20-4914ffe1e174>\u001b[0m in \u001b[0;36m<module>\u001b[0;34m\u001b[0m\n\u001b[1;32m      1\u001b[0m \u001b[0;31m# db.all()\u001b[0m\u001b[0;34m\u001b[0m\u001b[0;34m\u001b[0m\u001b[0;34m\u001b[0m\u001b[0m\n\u001b[0;32m----> 2\u001b[0;31m \u001b[0mdb\u001b[0m\u001b[0;34m.\u001b[0m\u001b[0mget\u001b[0m\u001b[0;34m(\u001b[0m\u001b[0mcourse\u001b[0m\u001b[0;34m)\u001b[0m\u001b[0;34m\u001b[0m\u001b[0;34m\u001b[0m\u001b[0m\n\u001b[0m",
      "\u001b[0;31mNameError\u001b[0m: name 'course' is not defined"
     ]
    }
   ],
   "source": [
    "# db.all()\n",
    "db.get(course)"
   ]
  },
  {
   "cell_type": "code",
   "execution_count": 5,
   "metadata": {},
   "outputs": [
    {
     "name": "stdout",
     "output_type": "stream",
     "text": [
      "{'course': 'defense against the dark arts', 'year': 2000, 'book': 'Codex', 'students': 24, 'office hours': {'time': '5-6pm', 'loc': 'SEC 206'}}\n",
      "{'course': 'defense against the dark arts', 'year': 2000, 'book': 'Codex'}\n",
      "{'course': 'defense against the dark arts', 'year': 2000, 'book': 'Codex'}\n",
      "{'year': 2020}\n",
      "{'course': 'stats-sw', 'year': 2017, 'students': 11}\n",
      "{'course': 'stats-sw', 'year': 2018, 'students': 21}\n"
     ]
    }
   ],
   "source": [
    "for item in db:\n",
    "    print(item)"
   ]
  },
  {
   "cell_type": "code",
   "execution_count": 6,
   "metadata": {},
   "outputs": [
    {
     "data": {
      "text/plain": [
       "8"
      ]
     },
     "execution_count": 6,
     "metadata": {},
     "output_type": "execute_result"
    }
   ],
   "source": [
    "db.insert({'course': 'db-management', 'year': 2019, 'students': 21})\n",
    "db.insert({'course': 'stats-sw', 'year': 2019, 'students': 24})"
   ]
  },
  {
   "cell_type": "code",
   "execution_count": 7,
   "metadata": {},
   "outputs": [
    {
     "data": {
      "text/plain": [
       "[{'course': 'db-management', 'year': 2019, 'students': 21},\n",
       " {'course': 'stats-sw', 'year': 2019, 'students': 24}]"
      ]
     },
     "execution_count": 7,
     "metadata": {},
     "output_type": "execute_result"
    }
   ],
   "source": [
    "q = Query()\n",
    "db.search(q.year==2019)"
   ]
  },
  {
   "cell_type": "code",
   "execution_count": 8,
   "metadata": {},
   "outputs": [
    {
     "data": {
      "text/plain": [
       "[]"
      ]
     },
     "execution_count": 8,
     "metadata": {},
     "output_type": "execute_result"
    }
   ],
   "source": [
    "db.search((q.course=='stats-sw') & (q.year==2017) & (q.year == 2019))"
   ]
  },
  {
   "cell_type": "code",
   "execution_count": 9,
   "metadata": {},
   "outputs": [
    {
     "data": {
      "text/plain": [
       "[{'course': 'defense against the dark arts',\n",
       "  'year': 2000,\n",
       "  'book': 'Codex',\n",
       "  'students': 24,\n",
       "  'office hours': {'time': '5-6pm', 'loc': 'SEC 206'}},\n",
       " {'course': 'defense against the dark arts', 'year': 2000, 'book': 'Codex'},\n",
       " {'course': 'defense against the dark arts', 'year': 2000, 'book': 'Codex'},\n",
       " {'year': 2020},\n",
       " {'course': 'stats-sw', 'year': 2017, 'students': 11},\n",
       " {'course': 'stats-sw', 'year': 2018, 'students': 21},\n",
       " {'course': 'db-management', 'year': 2019, 'students': 21},\n",
       " {'course': 'stats-sw', 'year': 2019, 'students': 24}]"
      ]
     },
     "execution_count": 9,
     "metadata": {},
     "output_type": "execute_result"
    }
   ],
   "source": [
    "db.all()"
   ]
  },
  {
   "cell_type": "code",
   "execution_count": 10,
   "metadata": {},
   "outputs": [
    {
     "data": {
      "text/plain": [
       "[7]"
      ]
     },
     "execution_count": 10,
     "metadata": {},
     "output_type": "execute_result"
    }
   ],
   "source": [
    "db.update({'students':205}, q.course=='db-management')"
   ]
  },
  {
   "cell_type": "code",
   "execution_count": 21,
   "metadata": {},
   "outputs": [
    {
     "data": {
      "text/plain": [
       "11"
      ]
     },
     "execution_count": 21,
     "metadata": {},
     "output_type": "execute_result"
    }
   ],
   "source": [
    "db.insert({'temp_col':203})"
   ]
  },
  {
   "cell_type": "code",
   "execution_count": 26,
   "metadata": {},
   "outputs": [
    {
     "data": {
      "text/html": [
       "<div>\n",
       "<style scoped>\n",
       "    .dataframe tbody tr th:only-of-type {\n",
       "        vertical-align: middle;\n",
       "    }\n",
       "\n",
       "    .dataframe tbody tr th {\n",
       "        vertical-align: top;\n",
       "    }\n",
       "\n",
       "    .dataframe thead th {\n",
       "        text-align: right;\n",
       "    }\n",
       "</style>\n",
       "<table border=\"1\" class=\"dataframe\">\n",
       "  <thead>\n",
       "    <tr style=\"text-align: right;\">\n",
       "      <th></th>\n",
       "      <th>course</th>\n",
       "      <th>year</th>\n",
       "      <th>book</th>\n",
       "      <th>students</th>\n",
       "      <th>temp_col</th>\n",
       "    </tr>\n",
       "  </thead>\n",
       "  <tbody>\n",
       "    <tr>\n",
       "      <th>0</th>\n",
       "      <td>defense against the dark arts</td>\n",
       "      <td>2000.0</td>\n",
       "      <td>Codex</td>\n",
       "      <td>NaN</td>\n",
       "      <td>NaN</td>\n",
       "    </tr>\n",
       "    <tr>\n",
       "      <th>1</th>\n",
       "      <td>defense against the dark arts</td>\n",
       "      <td>2000.0</td>\n",
       "      <td>Codex</td>\n",
       "      <td>NaN</td>\n",
       "      <td>NaN</td>\n",
       "    </tr>\n",
       "    <tr>\n",
       "      <th>2</th>\n",
       "      <td>NaN</td>\n",
       "      <td>2020.0</td>\n",
       "      <td>NaN</td>\n",
       "      <td>NaN</td>\n",
       "      <td>NaN</td>\n",
       "    </tr>\n",
       "    <tr>\n",
       "      <th>3</th>\n",
       "      <td>stats-sw</td>\n",
       "      <td>2017.0</td>\n",
       "      <td>NaN</td>\n",
       "      <td>11.0</td>\n",
       "      <td>NaN</td>\n",
       "    </tr>\n",
       "    <tr>\n",
       "      <th>4</th>\n",
       "      <td>stats-sw</td>\n",
       "      <td>2017.0</td>\n",
       "      <td>NaN</td>\n",
       "      <td>11.0</td>\n",
       "      <td>NaN</td>\n",
       "    </tr>\n",
       "    <tr>\n",
       "      <th>5</th>\n",
       "      <td>stats-sw</td>\n",
       "      <td>2018.0</td>\n",
       "      <td>Python for Data Science</td>\n",
       "      <td>21.0</td>\n",
       "      <td>NaN</td>\n",
       "    </tr>\n",
       "    <tr>\n",
       "      <th>6</th>\n",
       "      <td>NaN</td>\n",
       "      <td>NaN</td>\n",
       "      <td>NaN</td>\n",
       "      <td>NaN</td>\n",
       "      <td>203.0</td>\n",
       "    </tr>\n",
       "  </tbody>\n",
       "</table>\n",
       "</div>"
      ],
      "text/plain": [
       "                          course    year                     book  students  \\\n",
       "0  defense against the dark arts  2000.0                    Codex       NaN   \n",
       "1  defense against the dark arts  2000.0                    Codex       NaN   \n",
       "2                            NaN  2020.0                      NaN       NaN   \n",
       "3                       stats-sw  2017.0                      NaN      11.0   \n",
       "4                       stats-sw  2017.0                      NaN      11.0   \n",
       "5                       stats-sw  2018.0  Python for Data Science      21.0   \n",
       "6                            NaN     NaN                      NaN       NaN   \n",
       "\n",
       "   temp_col  \n",
       "0       NaN  \n",
       "1       NaN  \n",
       "2       NaN  \n",
       "3       NaN  \n",
       "4       NaN  \n",
       "5       NaN  \n",
       "6     203.0  "
      ]
     },
     "execution_count": 26,
     "metadata": {},
     "output_type": "execute_result"
    }
   ],
   "source": [
    "pd.DataFrame(db.all())"
   ]
  },
  {
   "cell_type": "code",
   "execution_count": 11,
   "metadata": {},
   "outputs": [
    {
     "data": {
      "text/plain": [
       "[{'course': 'defense against the dark arts',\n",
       "  'year': 2000,\n",
       "  'book': 'Codex',\n",
       "  'students': 24,\n",
       "  'office hours': {'time': '5-6pm', 'loc': 'SEC 206'}},\n",
       " {'course': 'defense against the dark arts', 'year': 2000, 'book': 'Codex'},\n",
       " {'course': 'defense against the dark arts', 'year': 2000, 'book': 'Codex'},\n",
       " {'year': 2020},\n",
       " {'course': 'stats-sw', 'year': 2017, 'students': 11},\n",
       " {'course': 'stats-sw', 'year': 2018, 'students': 21},\n",
       " {'course': 'db-management', 'year': 2019, 'students': 205},\n",
       " {'course': 'stats-sw', 'year': 2019, 'students': 24}]"
      ]
     },
     "execution_count": 11,
     "metadata": {},
     "output_type": "execute_result"
    }
   ],
   "source": [
    "db.all()"
   ]
  },
  {
   "cell_type": "code",
   "execution_count": 12,
   "metadata": {},
   "outputs": [
    {
     "data": {
      "text/plain": [
       "[1, 6, 7, 8]"
      ]
     },
     "execution_count": 12,
     "metadata": {},
     "output_type": "execute_result"
    }
   ],
   "source": [
    "db.remove(q.students>20)"
   ]
  },
  {
   "cell_type": "code",
   "execution_count": 13,
   "metadata": {},
   "outputs": [
    {
     "data": {
      "text/plain": [
       "[{'course': 'defense against the dark arts', 'year': 2000, 'book': 'Codex'},\n",
       " {'course': 'defense against the dark arts', 'year': 2000, 'book': 'Codex'},\n",
       " {'year': 2020},\n",
       " {'course': 'stats-sw', 'year': 2017, 'students': 11}]"
      ]
     },
     "execution_count": 13,
     "metadata": {},
     "output_type": "execute_result"
    }
   ],
   "source": [
    "db.all()"
   ]
  },
  {
   "cell_type": "code",
   "execution_count": 27,
   "metadata": {},
   "outputs": [],
   "source": [
    "#db.truncate()"
   ]
  },
  {
   "cell_type": "code",
   "execution_count": 28,
   "metadata": {},
   "outputs": [
    {
     "data": {
      "text/plain": [
       "[]"
      ]
     },
     "execution_count": 28,
     "metadata": {},
     "output_type": "execute_result"
    }
   ],
   "source": [
    "#db.all()"
   ]
  },
  {
   "cell_type": "code",
   "execution_count": 14,
   "metadata": {},
   "outputs": [
    {
     "data": {
      "text/plain": [
       "10"
      ]
     },
     "execution_count": 14,
     "metadata": {},
     "output_type": "execute_result"
    }
   ],
   "source": [
    "db.insert({'course': 'stats-sw', 'year': 2017, 'students': 11})\n",
    "db.insert({'course': 'stats-sw', 'year': 2018, 'students': 21, 'book': 'Python for Data Science'})"
   ]
  },
  {
   "cell_type": "code",
   "execution_count": 15,
   "metadata": {},
   "outputs": [
    {
     "data": {
      "text/plain": [
       "[{'course': 'defense against the dark arts', 'year': 2000, 'book': 'Codex'},\n",
       " {'course': 'defense against the dark arts', 'year': 2000, 'book': 'Codex'},\n",
       " {'year': 2020},\n",
       " {'course': 'stats-sw', 'year': 2017, 'students': 11},\n",
       " {'course': 'stats-sw', 'year': 2017, 'students': 11},\n",
       " {'course': 'stats-sw',\n",
       "  'year': 2018,\n",
       "  'students': 21,\n",
       "  'book': 'Python for Data Science'}]"
      ]
     },
     "execution_count": 15,
     "metadata": {},
     "output_type": "execute_result"
    }
   ],
   "source": [
    "db.all()"
   ]
  },
  {
   "cell_type": "code",
   "execution_count": 29,
   "metadata": {},
   "outputs": [
    {
     "data": {
      "text/plain": [
       "1"
      ]
     },
     "execution_count": 29,
     "metadata": {},
     "output_type": "execute_result"
    }
   ],
   "source": [
    "db.insert({'course': 'stats-sw', 'year': 2019, 'book': 'Python for Data Science'})"
   ]
  },
  {
   "cell_type": "code",
   "execution_count": 16,
   "metadata": {},
   "outputs": [
    {
     "data": {
      "text/plain": [
       "[{'course': 'defense against the dark arts', 'year': 2000, 'book': 'Codex'},\n",
       " {'course': 'defense against the dark arts', 'year': 2000, 'book': 'Codex'},\n",
       " {'year': 2020},\n",
       " {'course': 'stats-sw', 'year': 2017, 'students': 11},\n",
       " {'course': 'stats-sw', 'year': 2017, 'students': 11},\n",
       " {'course': 'stats-sw',\n",
       "  'year': 2018,\n",
       "  'students': 21,\n",
       "  'book': 'Python for Data Science'}]"
      ]
     },
     "execution_count": 16,
     "metadata": {},
     "output_type": "execute_result"
    }
   ],
   "source": [
    "db.all()"
   ]
  },
  {
   "cell_type": "code",
   "execution_count": 31,
   "metadata": {},
   "outputs": [
    {
     "data": {
      "text/plain": [
       "[1]"
      ]
     },
     "execution_count": 31,
     "metadata": {},
     "output_type": "execute_result"
    }
   ],
   "source": [
    "db.update({'students':24}, q.year==2019)"
   ]
  },
  {
   "cell_type": "code",
   "execution_count": 19,
   "metadata": {},
   "outputs": [
    {
     "data": {
      "text/plain": [
       "[{'course': 'defense against the dark arts', 'year': 2000, 'book': 'Codex'},\n",
       " {'course': 'defense against the dark arts', 'year': 2000, 'book': 'Codex'},\n",
       " {'year': 2020},\n",
       " {'course': 'stats-sw', 'year': 2017, 'students': 11},\n",
       " {'course': 'stats-sw', 'year': 2017, 'students': 11},\n",
       " {'course': 'stats-sw',\n",
       "  'year': 2018,\n",
       "  'students': 21,\n",
       "  'book': 'Python for Data Science'}]"
      ]
     },
     "execution_count": 19,
     "metadata": {},
     "output_type": "execute_result"
    }
   ],
   "source": [
    "db.all()"
   ]
  },
  {
   "cell_type": "code",
   "execution_count": 33,
   "metadata": {},
   "outputs": [
    {
     "data": {
      "text/plain": [
       "[1]"
      ]
     },
     "execution_count": 33,
     "metadata": {},
     "output_type": "execute_result"
    }
   ],
   "source": [
    "db.update({'office hours': {'time': '5-6pm', 'loc': 'SEC 206'}}, q.year==2019)"
   ]
  },
  {
   "cell_type": "code",
   "execution_count": 17,
   "metadata": {},
   "outputs": [
    {
     "data": {
      "text/plain": [
       "[]"
      ]
     },
     "execution_count": 17,
     "metadata": {},
     "output_type": "execute_result"
    }
   ],
   "source": [
    "db.update({'course': 'dirty against the dark arts', 'year': 1921, 'book': 'Alahamora'}, q.year==2019)"
   ]
  },
  {
   "cell_type": "code",
   "execution_count": 18,
   "metadata": {},
   "outputs": [
    {
     "data": {
      "text/plain": [
       "[{'course': 'defense against the dark arts', 'year': 2000, 'book': 'Codex'},\n",
       " {'course': 'defense against the dark arts', 'year': 2000, 'book': 'Codex'},\n",
       " {'year': 2020},\n",
       " {'course': 'stats-sw', 'year': 2017, 'students': 11},\n",
       " {'course': 'stats-sw', 'year': 2017, 'students': 11},\n",
       " {'course': 'stats-sw',\n",
       "  'year': 2018,\n",
       "  'students': 21,\n",
       "  'book': 'Python for Data Science'}]"
      ]
     },
     "execution_count": 18,
     "metadata": {},
     "output_type": "execute_result"
    }
   ],
   "source": [
    "db.all()"
   ]
  },
  {
   "cell_type": "code",
   "execution_count": 35,
   "metadata": {},
   "outputs": [
    {
     "data": {
      "text/plain": [
       "2"
      ]
     },
     "execution_count": 35,
     "metadata": {},
     "output_type": "execute_result"
    }
   ],
   "source": [
    "db.insert({'course': 'stats-sw', 'year': 2019, 'book': 'Python for Data Science'})"
   ]
  },
  {
   "cell_type": "code",
   "execution_count": 36,
   "metadata": {},
   "outputs": [
    {
     "data": {
      "text/plain": [
       "[{'course': 'stats-sw',\n",
       "  'year': 2019,\n",
       "  'book': 'Python for Data Science',\n",
       "  'students': 24,\n",
       "  'office hours': {'time': '5-6pm', 'loc': 'SEC 206'}},\n",
       " {'course': 'stats-sw', 'year': 2019, 'book': 'Python for Data Science'}]"
      ]
     },
     "execution_count": 36,
     "metadata": {},
     "output_type": "execute_result"
    }
   ],
   "source": [
    "db.all()"
   ]
  },
  {
   "cell_type": "code",
   "execution_count": 37,
   "metadata": {},
   "outputs": [
    {
     "data": {
      "text/plain": [
       "3"
      ]
     },
     "execution_count": 37,
     "metadata": {},
     "output_type": "execute_result"
    }
   ],
   "source": [
    "db.insert({'course': 'stats-sw', 'year': 2019, 'book': 'Python for Data Science'})"
   ]
  },
  {
   "cell_type": "code",
   "execution_count": 38,
   "metadata": {},
   "outputs": [
    {
     "data": {
      "text/plain": [
       "[{'course': 'stats-sw',\n",
       "  'year': 2019,\n",
       "  'book': 'Python for Data Science',\n",
       "  'students': 24,\n",
       "  'office hours': {'time': '5-6pm', 'loc': 'SEC 206'}},\n",
       " {'course': 'stats-sw', 'year': 2019, 'book': 'Python for Data Science'},\n",
       " {'course': 'stats-sw', 'year': 2019, 'book': 'Python for Data Science'}]"
      ]
     },
     "execution_count": 38,
     "metadata": {},
     "output_type": "execute_result"
    }
   ],
   "source": [
    "db.all()"
   ]
  },
  {
   "cell_type": "code",
   "execution_count": 39,
   "metadata": {},
   "outputs": [
    {
     "data": {
      "text/plain": [
       "4"
      ]
     },
     "execution_count": 39,
     "metadata": {},
     "output_type": "execute_result"
    }
   ],
   "source": [
    "db.insert({'year': 2019, 'year': 2020})"
   ]
  },
  {
   "cell_type": "code",
   "execution_count": 40,
   "metadata": {},
   "outputs": [
    {
     "data": {
      "text/plain": [
       "[{'course': 'stats-sw',\n",
       "  'year': 2019,\n",
       "  'book': 'Python for Data Science',\n",
       "  'students': 24,\n",
       "  'office hours': {'time': '5-6pm', 'loc': 'SEC 206'}},\n",
       " {'course': 'stats-sw', 'year': 2019, 'book': 'Python for Data Science'},\n",
       " {'course': 'stats-sw', 'year': 2019, 'book': 'Python for Data Science'},\n",
       " {'year': 2020}]"
      ]
     },
     "execution_count": 40,
     "metadata": {},
     "output_type": "execute_result"
    }
   ],
   "source": [
    "db.all()"
   ]
  },
  {
   "cell_type": "code",
   "execution_count": 28,
   "metadata": {},
   "outputs": [
    {
     "data": {
      "text/plain": [
       "[2, 3, 4, 5, 9, 10, 11]"
      ]
     },
     "execution_count": 28,
     "metadata": {},
     "output_type": "execute_result"
    }
   ],
   "source": [
    "db.update({\"stupids\": 4 + 1})"
   ]
  },
  {
   "cell_type": "code",
   "execution_count": 29,
   "metadata": {},
   "outputs": [
    {
     "data": {
      "text/plain": [
       "[{'course': 'defense against the dark arts',\n",
       "  'year': 2000,\n",
       "  'book': 'Codex',\n",
       "  'stupids': 5},\n",
       " {'course': 'defense against the dark arts',\n",
       "  'year': 2000,\n",
       "  'book': 'Codex',\n",
       "  'stupids': 5},\n",
       " {'year': 2020, 'stupids': 5},\n",
       " {'course': 'stats-sw', 'year': 2017, 'students': 11, 'stupids': 5},\n",
       " {'course': 'stats-sw', 'year': 2017, 'students': 11, 'stupids': 5},\n",
       " {'course': 'stats-sw',\n",
       "  'year': 2018,\n",
       "  'students': 21,\n",
       "  'book': 'Python for Data Science',\n",
       "  'stupids': 5},\n",
       " {'temp_col': 203, 'stupids': 5}]"
      ]
     },
     "execution_count": 29,
     "metadata": {},
     "output_type": "execute_result"
    }
   ],
   "source": [
    "db.all()"
   ]
  },
  {
   "cell_type": "code",
   "execution_count": 30,
   "metadata": {},
   "outputs": [
    {
     "data": {
      "text/html": [
       "<div>\n",
       "<style scoped>\n",
       "    .dataframe tbody tr th:only-of-type {\n",
       "        vertical-align: middle;\n",
       "    }\n",
       "\n",
       "    .dataframe tbody tr th {\n",
       "        vertical-align: top;\n",
       "    }\n",
       "\n",
       "    .dataframe thead th {\n",
       "        text-align: right;\n",
       "    }\n",
       "</style>\n",
       "<table border=\"1\" class=\"dataframe\">\n",
       "  <thead>\n",
       "    <tr style=\"text-align: right;\">\n",
       "      <th></th>\n",
       "      <th>course</th>\n",
       "      <th>year</th>\n",
       "      <th>book</th>\n",
       "      <th>stupids</th>\n",
       "      <th>students</th>\n",
       "      <th>temp_col</th>\n",
       "    </tr>\n",
       "  </thead>\n",
       "  <tbody>\n",
       "    <tr>\n",
       "      <th>0</th>\n",
       "      <td>defense against the dark arts</td>\n",
       "      <td>2000.0</td>\n",
       "      <td>Codex</td>\n",
       "      <td>5</td>\n",
       "      <td>NaN</td>\n",
       "      <td>NaN</td>\n",
       "    </tr>\n",
       "    <tr>\n",
       "      <th>1</th>\n",
       "      <td>defense against the dark arts</td>\n",
       "      <td>2000.0</td>\n",
       "      <td>Codex</td>\n",
       "      <td>5</td>\n",
       "      <td>NaN</td>\n",
       "      <td>NaN</td>\n",
       "    </tr>\n",
       "    <tr>\n",
       "      <th>2</th>\n",
       "      <td>NaN</td>\n",
       "      <td>2020.0</td>\n",
       "      <td>NaN</td>\n",
       "      <td>5</td>\n",
       "      <td>NaN</td>\n",
       "      <td>NaN</td>\n",
       "    </tr>\n",
       "    <tr>\n",
       "      <th>3</th>\n",
       "      <td>stats-sw</td>\n",
       "      <td>2017.0</td>\n",
       "      <td>NaN</td>\n",
       "      <td>5</td>\n",
       "      <td>11.0</td>\n",
       "      <td>NaN</td>\n",
       "    </tr>\n",
       "    <tr>\n",
       "      <th>4</th>\n",
       "      <td>stats-sw</td>\n",
       "      <td>2017.0</td>\n",
       "      <td>NaN</td>\n",
       "      <td>5</td>\n",
       "      <td>11.0</td>\n",
       "      <td>NaN</td>\n",
       "    </tr>\n",
       "    <tr>\n",
       "      <th>5</th>\n",
       "      <td>stats-sw</td>\n",
       "      <td>2018.0</td>\n",
       "      <td>Python for Data Science</td>\n",
       "      <td>5</td>\n",
       "      <td>21.0</td>\n",
       "      <td>NaN</td>\n",
       "    </tr>\n",
       "    <tr>\n",
       "      <th>6</th>\n",
       "      <td>NaN</td>\n",
       "      <td>NaN</td>\n",
       "      <td>NaN</td>\n",
       "      <td>5</td>\n",
       "      <td>NaN</td>\n",
       "      <td>203.0</td>\n",
       "    </tr>\n",
       "  </tbody>\n",
       "</table>\n",
       "</div>"
      ],
      "text/plain": [
       "                          course    year                     book  stupids  \\\n",
       "0  defense against the dark arts  2000.0                    Codex        5   \n",
       "1  defense against the dark arts  2000.0                    Codex        5   \n",
       "2                            NaN  2020.0                      NaN        5   \n",
       "3                       stats-sw  2017.0                      NaN        5   \n",
       "4                       stats-sw  2017.0                      NaN        5   \n",
       "5                       stats-sw  2018.0  Python for Data Science        5   \n",
       "6                            NaN     NaN                      NaN        5   \n",
       "\n",
       "   students  temp_col  \n",
       "0       NaN       NaN  \n",
       "1       NaN       NaN  \n",
       "2       NaN       NaN  \n",
       "3      11.0       NaN  \n",
       "4      11.0       NaN  \n",
       "5      21.0       NaN  \n",
       "6       NaN     203.0  "
      ]
     },
     "execution_count": 30,
     "metadata": {},
     "output_type": "execute_result"
    }
   ],
   "source": [
    "pd.DataFrame(db.all())"
   ]
  },
  {
   "cell_type": "code",
   "execution_count": 36,
   "metadata": {},
   "outputs": [],
   "source": [
    "for item in db:\n",
    "    db.update({'school':\"Hogwarts\"})"
   ]
  },
  {
   "cell_type": "code",
   "execution_count": 38,
   "metadata": {},
   "outputs": [
    {
     "data": {
      "text/html": [
       "<div>\n",
       "<style scoped>\n",
       "    .dataframe tbody tr th:only-of-type {\n",
       "        vertical-align: middle;\n",
       "    }\n",
       "\n",
       "    .dataframe tbody tr th {\n",
       "        vertical-align: top;\n",
       "    }\n",
       "\n",
       "    .dataframe thead th {\n",
       "        text-align: right;\n",
       "    }\n",
       "</style>\n",
       "<table border=\"1\" class=\"dataframe\">\n",
       "  <thead>\n",
       "    <tr style=\"text-align: right;\">\n",
       "      <th></th>\n",
       "      <th>course</th>\n",
       "      <th>year</th>\n",
       "      <th>book</th>\n",
       "      <th>stupids</th>\n",
       "      <th>school</th>\n",
       "      <th>students</th>\n",
       "      <th>temp_col</th>\n",
       "    </tr>\n",
       "  </thead>\n",
       "  <tbody>\n",
       "    <tr>\n",
       "      <th>0</th>\n",
       "      <td>defense against the dark arts</td>\n",
       "      <td>2000.0</td>\n",
       "      <td>Codex</td>\n",
       "      <td>5</td>\n",
       "      <td>Hogwarts</td>\n",
       "      <td>NaN</td>\n",
       "      <td>NaN</td>\n",
       "    </tr>\n",
       "    <tr>\n",
       "      <th>1</th>\n",
       "      <td>defense against the dark arts</td>\n",
       "      <td>2000.0</td>\n",
       "      <td>Codex</td>\n",
       "      <td>5</td>\n",
       "      <td>Hogwarts</td>\n",
       "      <td>NaN</td>\n",
       "      <td>NaN</td>\n",
       "    </tr>\n",
       "    <tr>\n",
       "      <th>2</th>\n",
       "      <td>NaN</td>\n",
       "      <td>2020.0</td>\n",
       "      <td>NaN</td>\n",
       "      <td>5</td>\n",
       "      <td>Hogwarts</td>\n",
       "      <td>NaN</td>\n",
       "      <td>NaN</td>\n",
       "    </tr>\n",
       "    <tr>\n",
       "      <th>3</th>\n",
       "      <td>stats-sw</td>\n",
       "      <td>2017.0</td>\n",
       "      <td>NaN</td>\n",
       "      <td>5</td>\n",
       "      <td>Hogwarts</td>\n",
       "      <td>11.0</td>\n",
       "      <td>NaN</td>\n",
       "    </tr>\n",
       "    <tr>\n",
       "      <th>4</th>\n",
       "      <td>stats-sw</td>\n",
       "      <td>2017.0</td>\n",
       "      <td>NaN</td>\n",
       "      <td>5</td>\n",
       "      <td>Hogwarts</td>\n",
       "      <td>11.0</td>\n",
       "      <td>NaN</td>\n",
       "    </tr>\n",
       "    <tr>\n",
       "      <th>5</th>\n",
       "      <td>stats-sw</td>\n",
       "      <td>2018.0</td>\n",
       "      <td>Python for Data Science</td>\n",
       "      <td>5</td>\n",
       "      <td>Hogwarts</td>\n",
       "      <td>21.0</td>\n",
       "      <td>NaN</td>\n",
       "    </tr>\n",
       "    <tr>\n",
       "      <th>6</th>\n",
       "      <td>NaN</td>\n",
       "      <td>NaN</td>\n",
       "      <td>NaN</td>\n",
       "      <td>5</td>\n",
       "      <td>Hogwarts</td>\n",
       "      <td>NaN</td>\n",
       "      <td>203.0</td>\n",
       "    </tr>\n",
       "  </tbody>\n",
       "</table>\n",
       "</div>"
      ],
      "text/plain": [
       "                          course    year                     book  stupids  \\\n",
       "0  defense against the dark arts  2000.0                    Codex        5   \n",
       "1  defense against the dark arts  2000.0                    Codex        5   \n",
       "2                            NaN  2020.0                      NaN        5   \n",
       "3                       stats-sw  2017.0                      NaN        5   \n",
       "4                       stats-sw  2017.0                      NaN        5   \n",
       "5                       stats-sw  2018.0  Python for Data Science        5   \n",
       "6                            NaN     NaN                      NaN        5   \n",
       "\n",
       "     school  students  temp_col  \n",
       "0  Hogwarts       NaN       NaN  \n",
       "1  Hogwarts       NaN       NaN  \n",
       "2  Hogwarts       NaN       NaN  \n",
       "3  Hogwarts      11.0       NaN  \n",
       "4  Hogwarts      11.0       NaN  \n",
       "5  Hogwarts      21.0       NaN  \n",
       "6  Hogwarts       NaN     203.0  "
      ]
     },
     "execution_count": 38,
     "metadata": {},
     "output_type": "execute_result"
    }
   ],
   "source": [
    "pd.DataFrame(db.all())"
   ]
  },
  {
   "cell_type": "code",
   "execution_count": null,
   "metadata": {},
   "outputs": [],
   "source": []
  }
 ],
 "metadata": {
  "kernelspec": {
   "display_name": "Python 3",
   "language": "python",
   "name": "python3"
  },
  "language_info": {
   "codemirror_mode": {
    "name": "ipython",
    "version": 3
   },
   "file_extension": ".py",
   "mimetype": "text/x-python",
   "name": "python",
   "nbconvert_exporter": "python",
   "pygments_lexer": "ipython3",
   "version": "3.7.6"
  }
 },
 "nbformat": 4,
 "nbformat_minor": 1
}
