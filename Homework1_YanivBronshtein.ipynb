{
 "cells": [
  {
   "cell_type": "markdown",
   "metadata": {},
   "source": [
    "# Homework 1"
   ]
  },
  {
   "cell_type": "markdown",
   "metadata": {},
   "source": [
    "In this homework, you will be working with the Lahman baseball statistics database. This database contains pitching, hitting, and fielding statistics for Major League Baseball from 1871 through 2016.  It includes data from the two current leagues (American and National), the four other \"major\" leagues (American Association, Union Association, Players League, and Federal League), and the National Association of 1871-1875. "
   ]
  },
  {
   "cell_type": "markdown",
   "metadata": {},
   "source": [
    "You will be working with the sqlite version of the Lahman database, which is avaiable at https://github.com/jknecht/baseball-archive-sqlite . Download the <b>2016</b> database file. You will be using some of the tables in this database for this homework.  \n",
    "\n",
    "For documentation about the data and its tables, see http://www.seanlahman.com/files/database/readme2017.txt . Note that the documentation is for a dataset that includes the 2017 data, but most of it applies to the 2016 dataset. One difference is that the <i><b>People</i></b> table is named <i><b>Master</i></b> in the 2016 dataset. \n",
    "\n",
    "You need to use SQL queries and the code framework in the file SQLite.ipynb (sqlite3, pandas, matplotlib, seaborn) for this homework. "
   ]
  },
  {
   "cell_type": "markdown",
   "metadata": {},
   "source": [
    "<b>IMPORTANT</b>\n",
    "\n",
    "Your submission should be an ipynb file named <i><b>YourFirstInitialLastname.ipynb</i></b> . A student named John Doe will have a submission named JDoe.ipynb . You can use the assignment description file and rename it by selecting <b>File</b> and then <b>Rename</b>.\n",
    "\n",
    "You must use Python code to provide your solutions. Insert your code for each part in cells right after the description. Use the + on the top tab to insert cells. You can use the button labeled with the scissors to delete a cell. You can also change a cell from code to Markdown (such as this one) to insert comments and descriptions. "
   ]
  },
  {
   "cell_type": "markdown",
   "metadata": {},
   "source": [
    "## Part I (10 points)"
   ]
  },
  {
   "cell_type": "markdown",
   "metadata": {},
   "source": [
    "(i) Display the names of the tables in the database.\n",
    "\n",
    "(ii) Display the names of the columns in the table Master. \n",
    "\n",
    "(iii) Display the number of rows in the table Master.\n",
    "\n",
    "(iv) Display the nameFirst and nameLast for players whose weight is greater than 280. "
   ]
  },
  {
   "cell_type": "code",
   "execution_count": 1,
   "metadata": {},
   "outputs": [],
   "source": [
    "import sqlite3"
   ]
  },
  {
   "cell_type": "code",
   "execution_count": 2,
   "metadata": {},
   "outputs": [],
   "source": [
    "from sqlite3 import Error\n",
    "\n",
    "def create_connection(db_file):\n",
    "    \"\"\" create a database connection to the SQLite database\n",
    "        specified by the db_file\n",
    "    :param db_file: database file\n",
    "    :return: Connection object or None\n",
    "    \"\"\"\n",
    "    try:\n",
    "        conn = sqlite3.connect(db_file)\n",
    "        return conn\n",
    "    except Error as e:\n",
    "        print(e)\n",
    " \n",
    "    return None"
   ]
  },
  {
   "cell_type": "code",
   "execution_count": 3,
   "metadata": {},
   "outputs": [],
   "source": [
    "database = \"C:/Users/Julia/Downloads/lahman2016.sqlite\"\n",
    " \n",
    "# create a database connection\n",
    "conn = create_connection(database)"
   ]
  },
  {
   "cell_type": "code",
   "execution_count": 4,
   "metadata": {},
   "outputs": [],
   "source": [
    "# create a cursor object instance which allows sql queries to be executed\n",
    "cursor = conn.cursor()"
   ]
  },
  {
   "cell_type": "code",
   "execution_count": 5,
   "metadata": {},
   "outputs": [],
   "source": [
    "# function for executing a query and printing results\n",
    "def execute_query_and_print(cur, query):\n",
    "    \"\"\"\n",
    "    Executes a query and prints results\n",
    "    :param cur: the Cursor object\n",
    "    :param query: the sql query to be executed\n",
    "    :return:\n",
    "    \"\"\"\n",
    "    cur.execute(query)\n",
    " \n",
    "    rows = cur.fetchall()\n",
    " \n",
    "#     for row in rows:\n",
    "#         print(row)\n",
    "\n",
    "    for row in rows:\n",
    "        print(row)\n"
   ]
  },
  {
   "cell_type": "markdown",
   "metadata": {},
   "source": [
    "(i) Display the names of the tables in the database.\n"
   ]
  },
  {
   "cell_type": "code",
   "execution_count": 6,
   "metadata": {},
   "outputs": [
    {
     "name": "stdout",
     "output_type": "stream",
     "text": [
      "AllstarFull\n",
      "Appearances\n",
      "AwardsManagers\n",
      "AwardsPlayers\n",
      "AwardsShareManagers\n",
      "AwardsSharePlayers\n",
      "Batting\n",
      "BattingPost\n",
      "CollegePlaying\n",
      "Fielding\n",
      "FieldingOF\n",
      "FieldingOFsplit\n",
      "FieldingPost\n",
      "HallOfFame\n",
      "HomeGames\n",
      "Managers\n",
      "ManagersHalf\n",
      "Master\n",
      "Parks\n",
      "Pitching\n",
      "PitchingPost\n",
      "Salaries\n",
      "Schools\n",
      "SeriesPost\n",
      "Teams\n",
      "TeamsFranchises\n",
      "TeamsHalf\n"
     ]
    }
   ],
   "source": [
    "query = \"SELECT name FROM sqlite_master WHERE type='table';\"\n",
    "cursor.execute(query)\n",
    "for row in cursor.fetchall():\n",
    "    print(row[0])\n"
   ]
  },
  {
   "cell_type": "markdown",
   "metadata": {},
   "source": [
    "(ii) Display the names of the columns in the table Master. \n"
   ]
  },
  {
   "cell_type": "code",
   "execution_count": 7,
   "metadata": {},
   "outputs": [
    {
     "name": "stdout",
     "output_type": "stream",
     "text": [
      "playerID\n",
      "birthYear\n",
      "birthMonth\n",
      "birthDay\n",
      "birthCountry\n",
      "birthState\n",
      "birthCity\n",
      "deathYear\n",
      "deathMonth\n",
      "deathDay\n",
      "deathCountry\n",
      "deathState\n",
      "deathCity\n",
      "nameFirst\n",
      "nameLast\n",
      "nameGiven\n",
      "weight\n",
      "height\n",
      "bats\n",
      "throws\n",
      "debut\n",
      "finalGame\n",
      "retroID\n",
      "bbrefID\n"
     ]
    }
   ],
   "source": [
    "query = \"SELECT * FROM Master;\"\n",
    "cursor.execute(query)\n",
    "\n",
    "for row in cursor.description:\n",
    "    print(row[0])"
   ]
  },
  {
   "cell_type": "markdown",
   "metadata": {},
   "source": [
    "(iii) Display the number of rows in the table Master."
   ]
  },
  {
   "cell_type": "code",
   "execution_count": 8,
   "metadata": {},
   "outputs": [
    {
     "name": "stdout",
     "output_type": "stream",
     "text": [
      "Num rows: 19105\n"
     ]
    }
   ],
   "source": [
    "cursor.execute(\"SELECT count(*) FROM Master;\")\n",
    "count_rows = cursor.fetchall()\n",
    "print(\"Num rows:\",int(count_rows[0][0]))"
   ]
  },
  {
   "cell_type": "markdown",
   "metadata": {},
   "source": [
    "(iv) Display the nameFirst and nameLast for players whose weight is greater than 280."
   ]
  },
  {
   "cell_type": "code",
   "execution_count": 9,
   "metadata": {},
   "outputs": [
    {
     "name": "stdout",
     "output_type": "stream",
     "text": [
      "('Jumbo', 'Brown')\n",
      "('Jonathan', 'Broxton')\n",
      "('Bartolo', 'Colon')\n",
      "('Adam', 'Dunn')\n",
      "('Jeff', 'Niemann')\n",
      "('Chad', 'Paronto')\n",
      "('Calvin', 'Pickering')\n",
      "('Jon', 'Rauch')\n",
      "('Tyler', 'Robertson')\n",
      "('CC', 'Sabathia')\n",
      "('Kennys', 'Vargas')\n",
      "('Dmitri', 'Young')\n",
      "('Walter', 'Young')\n"
     ]
    }
   ],
   "source": [
    "query = \"\"\"\n",
    "SELECT m.namefirst, \n",
    "       m.namelast \n",
    "FROM   master m \n",
    "WHERE  m.weight > 280;\n",
    "\"\"\"\n",
    "cursor.execute(query)\n",
    "for row in cursor.fetchall():\n",
    "    print(row)\n"
   ]
  },
  {
   "cell_type": "markdown",
   "metadata": {},
   "source": [
    "## Part II (20 points)"
   ]
  },
  {
   "cell_type": "markdown",
   "metadata": {},
   "source": [
    "(i) Group players in the Master table with the same birthyear, and report the birthyear, the average height, and the number of players for each birthyear. Order the results by birthyear ascending. Save the results into a Pandas DataFrame. \n",
    "\n",
    "(ii) Plot the results in (i) using a lineplot with the average height on the y axis and year on the x-axis. \n",
    "\n",
    "\n",
    "(iii) Do the same as in (i), but now only include groups with an average height > 70. \n",
    "\n",
    "(iv) Plot the results as in Part (ii)\n",
    "***********************************"
   ]
  },
  {
   "cell_type": "markdown",
   "metadata": {},
   "source": [
    "(i) Group players in the Master table with the same birthyear, and report the birthyear, the average height, and the number of players for each birthyear. Order the results by birthyear ascending. Save the results into a Pandas DataFrame."
   ]
  },
  {
   "cell_type": "code",
   "execution_count": 10,
   "metadata": {},
   "outputs": [],
   "source": [
    "import pandas as pd # for dataframe"
   ]
  },
  {
   "cell_type": "code",
   "execution_count": 11,
   "metadata": {},
   "outputs": [],
   "source": [
    "def create_df_sql(query, connection):\n",
    "    return pd.read_sql_query(query, connection)"
   ]
  },
  {
   "cell_type": "code",
   "execution_count": 12,
   "metadata": {},
   "outputs": [
    {
     "name": "stdout",
     "output_type": "stream",
     "text": [
      "161\n"
     ]
    },
    {
     "data": {
      "text/html": [
       "<div>\n",
       "<style scoped>\n",
       "    .dataframe tbody tr th:only-of-type {\n",
       "        vertical-align: middle;\n",
       "    }\n",
       "\n",
       "    .dataframe tbody tr th {\n",
       "        vertical-align: top;\n",
       "    }\n",
       "\n",
       "    .dataframe thead th {\n",
       "        text-align: right;\n",
       "    }\n",
       "</style>\n",
       "<table border=\"1\" class=\"dataframe\">\n",
       "  <thead>\n",
       "    <tr style=\"text-align: right;\">\n",
       "      <th></th>\n",
       "      <th>birthYear</th>\n",
       "      <th>avgHeight</th>\n",
       "      <th>playerCount</th>\n",
       "    </tr>\n",
       "  </thead>\n",
       "  <tbody>\n",
       "    <tr>\n",
       "      <th>0</th>\n",
       "      <td>1835</td>\n",
       "      <td>69.000000</td>\n",
       "      <td>1</td>\n",
       "    </tr>\n",
       "    <tr>\n",
       "      <th>1</th>\n",
       "      <td>1836</td>\n",
       "      <td>63.000000</td>\n",
       "      <td>1</td>\n",
       "    </tr>\n",
       "    <tr>\n",
       "      <th>2</th>\n",
       "      <td>1838</td>\n",
       "      <td>69.000000</td>\n",
       "      <td>1</td>\n",
       "    </tr>\n",
       "    <tr>\n",
       "      <th>3</th>\n",
       "      <td>1839</td>\n",
       "      <td>72.000000</td>\n",
       "      <td>1</td>\n",
       "    </tr>\n",
       "    <tr>\n",
       "      <th>4</th>\n",
       "      <td>1840</td>\n",
       "      <td>68.500000</td>\n",
       "      <td>4</td>\n",
       "    </tr>\n",
       "    <tr>\n",
       "      <th>5</th>\n",
       "      <td>1841</td>\n",
       "      <td>68.333333</td>\n",
       "      <td>3</td>\n",
       "    </tr>\n",
       "    <tr>\n",
       "      <th>6</th>\n",
       "      <td>1842</td>\n",
       "      <td>68.400000</td>\n",
       "      <td>5</td>\n",
       "    </tr>\n",
       "    <tr>\n",
       "      <th>7</th>\n",
       "      <td>1843</td>\n",
       "      <td>67.500000</td>\n",
       "      <td>4</td>\n",
       "    </tr>\n",
       "    <tr>\n",
       "      <th>8</th>\n",
       "      <td>1844</td>\n",
       "      <td>68.833333</td>\n",
       "      <td>12</td>\n",
       "    </tr>\n",
       "    <tr>\n",
       "      <th>9</th>\n",
       "      <td>1845</td>\n",
       "      <td>69.153846</td>\n",
       "      <td>13</td>\n",
       "    </tr>\n",
       "    <tr>\n",
       "      <th>10</th>\n",
       "      <td>1846</td>\n",
       "      <td>67.500000</td>\n",
       "      <td>8</td>\n",
       "    </tr>\n",
       "    <tr>\n",
       "      <th>11</th>\n",
       "      <td>1847</td>\n",
       "      <td>69.105263</td>\n",
       "      <td>19</td>\n",
       "    </tr>\n",
       "    <tr>\n",
       "      <th>12</th>\n",
       "      <td>1848</td>\n",
       "      <td>68.000000</td>\n",
       "      <td>16</td>\n",
       "    </tr>\n",
       "    <tr>\n",
       "      <th>13</th>\n",
       "      <td>1849</td>\n",
       "      <td>68.600000</td>\n",
       "      <td>25</td>\n",
       "    </tr>\n",
       "    <tr>\n",
       "      <th>14</th>\n",
       "      <td>1850</td>\n",
       "      <td>68.962963</td>\n",
       "      <td>27</td>\n",
       "    </tr>\n",
       "    <tr>\n",
       "      <th>15</th>\n",
       "      <td>1851</td>\n",
       "      <td>68.550000</td>\n",
       "      <td>20</td>\n",
       "    </tr>\n",
       "    <tr>\n",
       "      <th>16</th>\n",
       "      <td>1852</td>\n",
       "      <td>69.296296</td>\n",
       "      <td>27</td>\n",
       "    </tr>\n",
       "    <tr>\n",
       "      <th>17</th>\n",
       "      <td>1853</td>\n",
       "      <td>69.235294</td>\n",
       "      <td>17</td>\n",
       "    </tr>\n",
       "    <tr>\n",
       "      <th>18</th>\n",
       "      <td>1854</td>\n",
       "      <td>69.515152</td>\n",
       "      <td>33</td>\n",
       "    </tr>\n",
       "    <tr>\n",
       "      <th>19</th>\n",
       "      <td>1855</td>\n",
       "      <td>69.046512</td>\n",
       "      <td>43</td>\n",
       "    </tr>\n",
       "  </tbody>\n",
       "</table>\n",
       "</div>"
      ],
      "text/plain": [
       "    birthYear  avgHeight  playerCount\n",
       "0        1835  69.000000            1\n",
       "1        1836  63.000000            1\n",
       "2        1838  69.000000            1\n",
       "3        1839  72.000000            1\n",
       "4        1840  68.500000            4\n",
       "5        1841  68.333333            3\n",
       "6        1842  68.400000            5\n",
       "7        1843  67.500000            4\n",
       "8        1844  68.833333           12\n",
       "9        1845  69.153846           13\n",
       "10       1846  67.500000            8\n",
       "11       1847  69.105263           19\n",
       "12       1848  68.000000           16\n",
       "13       1849  68.600000           25\n",
       "14       1850  68.962963           27\n",
       "15       1851  68.550000           20\n",
       "16       1852  69.296296           27\n",
       "17       1853  69.235294           17\n",
       "18       1854  69.515152           33\n",
       "19       1855  69.046512           43"
      ]
     },
     "execution_count": 12,
     "metadata": {},
     "output_type": "execute_result"
    }
   ],
   "source": [
    "query = \"\"\"\n",
    "SELECT DISTINCT m.birthyear,\n",
    "                Avg(m.height)     AS \"avgHeight\",\n",
    "                Count(m.playerid) AS \"playerCount\"\n",
    "FROM            master m\n",
    "WHERE           m.birthyear NOT null\n",
    "AND             m.height NOT NULL\n",
    "AND             m.playerid NOT NULL\n",
    "GROUP BY        m.birthyear\n",
    "ORDER BY        m.birthyear;\n",
    "\"\"\"\n",
    "\n",
    "master_table = create_df_sql(query, conn)\n",
    "print(master_table.shape[0])\n",
    "master_table.head(20)"
   ]
  },
  {
   "cell_type": "markdown",
   "metadata": {},
   "source": [
    "(ii) Plot the results in (i) using a lineplot with the average height on the y axis and year on the x-axis. "
   ]
  },
  {
   "cell_type": "code",
   "execution_count": 13,
   "metadata": {},
   "outputs": [
    {
     "data": {
      "text/plain": [
       "<matplotlib.axes._subplots.AxesSubplot at 0x1d5950f2df0>"
      ]
     },
     "execution_count": 13,
     "metadata": {},
     "output_type": "execute_result"
    },
    {
     "data": {
      "image/png": "[encoded data removed]",
      "text/plain": [
       "<Figure size 432x288 with 1 Axes>"
      ]
     },
     "metadata": {
      "needs_background": "light"
     },
     "output_type": "display_data"
    }
   ],
   "source": [
    "import seaborn as sns\n",
    "import matplotlib.pyplot as plt\n",
    "%matplotlib inline\n",
    "\n",
    "sns.lineplot(x=\"birthYear\", y=\"avgHeight\", data=master_table)"
   ]
  },
  {
   "cell_type": "markdown",
   "metadata": {},
   "source": [
    "(iii) Do the same as in (i), but now only include groups with an average height > 70. "
   ]
  },
  {
   "cell_type": "markdown",
   "metadata": {},
   "source": [
    "Create new dataframe by Modifying Data Frame by applying filter"
   ]
  },
  {
   "cell_type": "code",
   "execution_count": 14,
   "metadata": {},
   "outputs": [
    {
     "data": {
      "text/html": [
       "<div>\n",
       "<style scoped>\n",
       "    .dataframe tbody tr th:only-of-type {\n",
       "        vertical-align: middle;\n",
       "    }\n",
       "\n",
       "    .dataframe tbody tr th {\n",
       "        vertical-align: top;\n",
       "    }\n",
       "\n",
       "    .dataframe thead th {\n",
       "        text-align: right;\n",
       "    }\n",
       "</style>\n",
       "<table border=\"1\" class=\"dataframe\">\n",
       "  <thead>\n",
       "    <tr style=\"text-align: right;\">\n",
       "      <th></th>\n",
       "      <th>birthYear</th>\n",
       "      <th>avgHeight</th>\n",
       "      <th>playerCount</th>\n",
       "    </tr>\n",
       "  </thead>\n",
       "  <tbody>\n",
       "    <tr>\n",
       "      <th>3</th>\n",
       "      <td>1839</td>\n",
       "      <td>72.000000</td>\n",
       "      <td>1</td>\n",
       "    </tr>\n",
       "    <tr>\n",
       "      <th>32</th>\n",
       "      <td>1868</td>\n",
       "      <td>70.114286</td>\n",
       "      <td>70</td>\n",
       "    </tr>\n",
       "    <tr>\n",
       "      <th>35</th>\n",
       "      <td>1871</td>\n",
       "      <td>70.283019</td>\n",
       "      <td>53</td>\n",
       "    </tr>\n",
       "    <tr>\n",
       "      <th>36</th>\n",
       "      <td>1872</td>\n",
       "      <td>70.169492</td>\n",
       "      <td>59</td>\n",
       "    </tr>\n",
       "    <tr>\n",
       "      <th>37</th>\n",
       "      <td>1873</td>\n",
       "      <td>70.329114</td>\n",
       "      <td>79</td>\n",
       "    </tr>\n",
       "    <tr>\n",
       "      <th>38</th>\n",
       "      <td>1874</td>\n",
       "      <td>70.188235</td>\n",
       "      <td>85</td>\n",
       "    </tr>\n",
       "    <tr>\n",
       "      <th>40</th>\n",
       "      <td>1876</td>\n",
       "      <td>70.051546</td>\n",
       "      <td>97</td>\n",
       "    </tr>\n",
       "    <tr>\n",
       "      <th>41</th>\n",
       "      <td>1877</td>\n",
       "      <td>70.594595</td>\n",
       "      <td>74</td>\n",
       "    </tr>\n",
       "    <tr>\n",
       "      <th>42</th>\n",
       "      <td>1878</td>\n",
       "      <td>70.395349</td>\n",
       "      <td>86</td>\n",
       "    </tr>\n",
       "    <tr>\n",
       "      <th>43</th>\n",
       "      <td>1879</td>\n",
       "      <td>70.351648</td>\n",
       "      <td>91</td>\n",
       "    </tr>\n",
       "  </tbody>\n",
       "</table>\n",
       "</div>"
      ],
      "text/plain": [
       "    birthYear  avgHeight  playerCount\n",
       "3        1839  72.000000            1\n",
       "32       1868  70.114286           70\n",
       "35       1871  70.283019           53\n",
       "36       1872  70.169492           59\n",
       "37       1873  70.329114           79\n",
       "38       1874  70.188235           85\n",
       "40       1876  70.051546           97\n",
       "41       1877  70.594595           74\n",
       "42       1878  70.395349           86\n",
       "43       1879  70.351648           91"
      ]
     },
     "execution_count": 14,
     "metadata": {},
     "output_type": "execute_result"
    }
   ],
   "source": [
    "new_master_table = master_table[master_table['avgHeight'] > 70]\n",
    "new_master_table.head(10)"
   ]
  },
  {
   "cell_type": "markdown",
   "metadata": {},
   "source": [
    "(iv) Plot the results as in Part (ii)"
   ]
  },
  {
   "cell_type": "code",
   "execution_count": 15,
   "metadata": {},
   "outputs": [
    {
     "data": {
      "text/plain": [
       "<matplotlib.axes._subplots.AxesSubplot at 0x1d595899760>"
      ]
     },
     "execution_count": 15,
     "metadata": {},
     "output_type": "execute_result"
    },
    {
     "data": {
      "image/png": "[encoded data removed]",
      "text/plain": [
       "<Figure size 432x288 with 1 Axes>"
      ]
     },
     "metadata": {
      "needs_background": "light"
     },
     "output_type": "display_data"
    }
   ],
   "source": [
    "sns.lineplot(x=\"birthYear\", y=\"avgHeight\", data=new_master_table)\n"
   ]
  },
  {
   "cell_type": "markdown",
   "metadata": {},
   "source": [
    "## Part III (20 points)"
   ]
  },
  {
   "cell_type": "markdown",
   "metadata": {},
   "source": [
    "(i) Find the namefirst, namelast, playerid and yearid of all people who were successfully inducted into the Hall of Fame in descending order of yearid. Save the results into a Pandas DataFrame.\n",
    "\n",
    "(ii) Display the first 10 rows of the dataframe in (i). \n",
    "\n",
    "(iii) Display the total number of rows of the dataframe in (i).\n",
    "\n",
    "\n",
    "(iv) Find the people who were successfully inducted into the Hall of Fame and played in college at a school located in the state of California. For each person, return their namefirst, namelast, playerid, school name (name_full), and yearid in descending order of yearid. Break ties on yearid by school name (ascending). yearid refers to the year of induction into the Hall of Fame. Save the results in a dataframe and display the entire dataframe. "
   ]
  },
  {
   "cell_type": "markdown",
   "metadata": {},
   "source": [
    "(i) Find the namefirst, namelast, playerid and yearid of all people who were successfully inducted into the Hall of Fame in descending order of yearid. Save the results into a Pandas DataFrame."
   ]
  },
  {
   "cell_type": "code",
   "execution_count": 16,
   "metadata": {},
   "outputs": [
    {
     "name": "stdout",
     "output_type": "stream",
     "text": [
      "317\n"
     ]
    }
   ],
   "source": [
    "query = \"\"\"\n",
    "SELECT m.namefirst,\n",
    "       m.namelast,\n",
    "       h.playerid,\n",
    "       h.yearid\n",
    "FROM   halloffame h\n",
    "       INNER JOIN master m\n",
    "               ON h.playerid = m.playerid\n",
    "WHERE  h.inducted = 'Y'\n",
    "ORDER  BY h.yearid DESC; \n",
    "\"\"\"\n",
    "\n",
    "hall_of_fame_player_table = create_df_sql(query, conn)\n",
    "print(hall_of_fame_player_table.shape[0])"
   ]
  },
  {
   "cell_type": "markdown",
   "metadata": {},
   "source": [
    "(ii) Display the first 10 rows of the dataframe in (i). "
   ]
  },
  {
   "cell_type": "code",
   "execution_count": 17,
   "metadata": {},
   "outputs": [
    {
     "data": {
      "text/html": [
       "<div>\n",
       "<style scoped>\n",
       "    .dataframe tbody tr th:only-of-type {\n",
       "        vertical-align: middle;\n",
       "    }\n",
       "\n",
       "    .dataframe tbody tr th {\n",
       "        vertical-align: top;\n",
       "    }\n",
       "\n",
       "    .dataframe thead th {\n",
       "        text-align: right;\n",
       "    }\n",
       "</style>\n",
       "<table border=\"1\" class=\"dataframe\">\n",
       "  <thead>\n",
       "    <tr style=\"text-align: right;\">\n",
       "      <th></th>\n",
       "      <th>nameFirst</th>\n",
       "      <th>nameLast</th>\n",
       "      <th>playerID</th>\n",
       "      <th>yearid</th>\n",
       "    </tr>\n",
       "  </thead>\n",
       "  <tbody>\n",
       "    <tr>\n",
       "      <th>0</th>\n",
       "      <td>Jeff</td>\n",
       "      <td>Bagwell</td>\n",
       "      <td>bagweje01</td>\n",
       "      <td>2017</td>\n",
       "    </tr>\n",
       "    <tr>\n",
       "      <th>1</th>\n",
       "      <td>Tim</td>\n",
       "      <td>Raines</td>\n",
       "      <td>raineti01</td>\n",
       "      <td>2017</td>\n",
       "    </tr>\n",
       "    <tr>\n",
       "      <th>2</th>\n",
       "      <td>Ivan</td>\n",
       "      <td>Rodriguez</td>\n",
       "      <td>rodriiv01</td>\n",
       "      <td>2017</td>\n",
       "    </tr>\n",
       "    <tr>\n",
       "      <th>3</th>\n",
       "      <td>John</td>\n",
       "      <td>Schuerholz</td>\n",
       "      <td>schurjo99</td>\n",
       "      <td>2017</td>\n",
       "    </tr>\n",
       "    <tr>\n",
       "      <th>4</th>\n",
       "      <td>Bud</td>\n",
       "      <td>Selig</td>\n",
       "      <td>seligbu99</td>\n",
       "      <td>2017</td>\n",
       "    </tr>\n",
       "    <tr>\n",
       "      <th>5</th>\n",
       "      <td>Ken</td>\n",
       "      <td>Griffey</td>\n",
       "      <td>griffke02</td>\n",
       "      <td>2016</td>\n",
       "    </tr>\n",
       "    <tr>\n",
       "      <th>6</th>\n",
       "      <td>Mike</td>\n",
       "      <td>Piazza</td>\n",
       "      <td>piazzmi01</td>\n",
       "      <td>2016</td>\n",
       "    </tr>\n",
       "    <tr>\n",
       "      <th>7</th>\n",
       "      <td>Craig</td>\n",
       "      <td>Biggio</td>\n",
       "      <td>biggicr01</td>\n",
       "      <td>2015</td>\n",
       "    </tr>\n",
       "    <tr>\n",
       "      <th>8</th>\n",
       "      <td>Randy</td>\n",
       "      <td>Johnson</td>\n",
       "      <td>johnsra05</td>\n",
       "      <td>2015</td>\n",
       "    </tr>\n",
       "    <tr>\n",
       "      <th>9</th>\n",
       "      <td>Pedro</td>\n",
       "      <td>Martinez</td>\n",
       "      <td>martipe02</td>\n",
       "      <td>2015</td>\n",
       "    </tr>\n",
       "  </tbody>\n",
       "</table>\n",
       "</div>"
      ],
      "text/plain": [
       "  nameFirst    nameLast   playerID  yearid\n",
       "0      Jeff     Bagwell  bagweje01    2017\n",
       "1       Tim      Raines  raineti01    2017\n",
       "2      Ivan   Rodriguez  rodriiv01    2017\n",
       "3      John  Schuerholz  schurjo99    2017\n",
       "4       Bud       Selig  seligbu99    2017\n",
       "5       Ken     Griffey  griffke02    2016\n",
       "6      Mike      Piazza  piazzmi01    2016\n",
       "7     Craig      Biggio  biggicr01    2015\n",
       "8     Randy     Johnson  johnsra05    2015\n",
       "9     Pedro    Martinez  martipe02    2015"
      ]
     },
     "execution_count": 17,
     "metadata": {},
     "output_type": "execute_result"
    }
   ],
   "source": [
    "hall_of_fame_player_table.head(10)\n"
   ]
  },
  {
   "cell_type": "markdown",
   "metadata": {},
   "source": [
    "(iii) Display the total number of rows of the dataframe in (i)."
   ]
  },
  {
   "cell_type": "code",
   "execution_count": 18,
   "metadata": {},
   "outputs": [
    {
     "data": {
      "text/plain": [
       "317"
      ]
     },
     "execution_count": 18,
     "metadata": {},
     "output_type": "execute_result"
    }
   ],
   "source": [
    "hall_of_fame_player_table.shape[0]"
   ]
  },
  {
   "cell_type": "markdown",
   "metadata": {},
   "source": [
    "(iv) Find the people who were successfully inducted into the Hall of Fame and played in college at a school located in the state of California. For each person, return their namefirst, namelast, playerid, school name (name_full), and yearid in descending order of yearid. Break ties on yearid by school name (ascending). yearid refers to the year of induction into the Hall of Fame. Save the results in a dataframe and display the entire dataframe. "
   ]
  },
  {
   "cell_type": "code",
   "execution_count": 19,
   "metadata": {},
   "outputs": [],
   "source": [
    "query = \"\"\"\n",
    "SELECT DISTINCT m.namefirst, \n",
    "                m.namelast, \n",
    "                h.playerid, \n",
    "                s.name_full, \n",
    "                h.yearid \n",
    "FROM   halloffame h \n",
    "       JOIN collegeplaying c \n",
    "         ON h.playerid = c.playerid \n",
    "       JOIN master m \n",
    "         ON h.playerid = m.playerid \n",
    "       JOIN schools s \n",
    "         ON c.schoolid = s.schoolid \n",
    "WHERE  s.state = 'CA' \n",
    "       AND h.inducted = 'Y' \n",
    "ORDER  BY h.yearid DESC, \n",
    "          s.name_full ASC; \n",
    "\"\"\"\n",
    "hall_of_fame_cali = create_df_sql(query, conn)\n"
   ]
  },
  {
   "cell_type": "code",
   "execution_count": 20,
   "metadata": {},
   "outputs": [
    {
     "data": {
      "text/html": [
       "<div>\n",
       "<style scoped>\n",
       "    .dataframe tbody tr th:only-of-type {\n",
       "        vertical-align: middle;\n",
       "    }\n",
       "\n",
       "    .dataframe tbody tr th {\n",
       "        vertical-align: top;\n",
       "    }\n",
       "\n",
       "    .dataframe thead th {\n",
       "        text-align: right;\n",
       "    }\n",
       "</style>\n",
       "<table border=\"1\" class=\"dataframe\">\n",
       "  <thead>\n",
       "    <tr style=\"text-align: right;\">\n",
       "      <th></th>\n",
       "      <th>nameFirst</th>\n",
       "      <th>nameLast</th>\n",
       "      <th>playerID</th>\n",
       "      <th>name_full</th>\n",
       "      <th>yearid</th>\n",
       "    </tr>\n",
       "  </thead>\n",
       "  <tbody>\n",
       "    <tr>\n",
       "      <th>0</th>\n",
       "      <td>Randy</td>\n",
       "      <td>Johnson</td>\n",
       "      <td>johnsra05</td>\n",
       "      <td>University of Southern California</td>\n",
       "      <td>2015</td>\n",
       "    </tr>\n",
       "    <tr>\n",
       "      <th>1</th>\n",
       "      <td>Pat</td>\n",
       "      <td>Gillick</td>\n",
       "      <td>gillipa99</td>\n",
       "      <td>Los Angeles Valley College</td>\n",
       "      <td>2011</td>\n",
       "    </tr>\n",
       "    <tr>\n",
       "      <th>2</th>\n",
       "      <td>Pat</td>\n",
       "      <td>Gillick</td>\n",
       "      <td>gillipa99</td>\n",
       "      <td>University of Southern California</td>\n",
       "      <td>2011</td>\n",
       "    </tr>\n",
       "    <tr>\n",
       "      <th>3</th>\n",
       "      <td>Doug</td>\n",
       "      <td>Harvey</td>\n",
       "      <td>harvedo99</td>\n",
       "      <td>San Diego State University</td>\n",
       "      <td>2010</td>\n",
       "    </tr>\n",
       "    <tr>\n",
       "      <th>4</th>\n",
       "      <td>Dick</td>\n",
       "      <td>Williams</td>\n",
       "      <td>willidi02</td>\n",
       "      <td>Pasadena City College</td>\n",
       "      <td>2008</td>\n",
       "    </tr>\n",
       "    <tr>\n",
       "      <th>5</th>\n",
       "      <td>Tony</td>\n",
       "      <td>Gwynn</td>\n",
       "      <td>gwynnto01</td>\n",
       "      <td>San Diego State University</td>\n",
       "      <td>2007</td>\n",
       "    </tr>\n",
       "    <tr>\n",
       "      <th>6</th>\n",
       "      <td>Ozzie</td>\n",
       "      <td>Smith</td>\n",
       "      <td>smithoz01</td>\n",
       "      <td>California Polytechnic State University, San L...</td>\n",
       "      <td>2002</td>\n",
       "    </tr>\n",
       "    <tr>\n",
       "      <th>7</th>\n",
       "      <td>Tom</td>\n",
       "      <td>Seaver</td>\n",
       "      <td>seaveto01</td>\n",
       "      <td>Fresno City College</td>\n",
       "      <td>1992</td>\n",
       "    </tr>\n",
       "    <tr>\n",
       "      <th>8</th>\n",
       "      <td>Tom</td>\n",
       "      <td>Seaver</td>\n",
       "      <td>seaveto01</td>\n",
       "      <td>University of Southern California</td>\n",
       "      <td>1992</td>\n",
       "    </tr>\n",
       "    <tr>\n",
       "      <th>9</th>\n",
       "      <td>Joe</td>\n",
       "      <td>Morgan</td>\n",
       "      <td>morgajo02</td>\n",
       "      <td>Merritt College</td>\n",
       "      <td>1990</td>\n",
       "    </tr>\n",
       "    <tr>\n",
       "      <th>10</th>\n",
       "      <td>Harry</td>\n",
       "      <td>Hooper</td>\n",
       "      <td>hoopeha01</td>\n",
       "      <td>St. Mary's College of California</td>\n",
       "      <td>1971</td>\n",
       "    </tr>\n",
       "    <tr>\n",
       "      <th>11</th>\n",
       "      <td>Jackie</td>\n",
       "      <td>Robinson</td>\n",
       "      <td>robinja02</td>\n",
       "      <td>University of California, Los Angeles</td>\n",
       "      <td>1962</td>\n",
       "    </tr>\n",
       "  </tbody>\n",
       "</table>\n",
       "</div>"
      ],
      "text/plain": [
       "   nameFirst  nameLast   playerID  \\\n",
       "0      Randy   Johnson  johnsra05   \n",
       "1        Pat   Gillick  gillipa99   \n",
       "2        Pat   Gillick  gillipa99   \n",
       "3       Doug    Harvey  harvedo99   \n",
       "4       Dick  Williams  willidi02   \n",
       "5       Tony     Gwynn  gwynnto01   \n",
       "6      Ozzie     Smith  smithoz01   \n",
       "7        Tom    Seaver  seaveto01   \n",
       "8        Tom    Seaver  seaveto01   \n",
       "9        Joe    Morgan  morgajo02   \n",
       "10     Harry    Hooper  hoopeha01   \n",
       "11    Jackie  Robinson  robinja02   \n",
       "\n",
       "                                            name_full  yearid  \n",
       "0                   University of Southern California    2015  \n",
       "1                          Los Angeles Valley College    2011  \n",
       "2                   University of Southern California    2011  \n",
       "3                          San Diego State University    2010  \n",
       "4                               Pasadena City College    2008  \n",
       "5                          San Diego State University    2007  \n",
       "6   California Polytechnic State University, San L...    2002  \n",
       "7                                 Fresno City College    1992  \n",
       "8                   University of Southern California    1992  \n",
       "9                                     Merritt College    1990  \n",
       "10                   St. Mary's College of California    1971  \n",
       "11              University of California, Los Angeles    1962  "
      ]
     },
     "execution_count": 20,
     "metadata": {},
     "output_type": "execute_result"
    }
   ],
   "source": [
    "hall_of_fame_cali"
   ]
  },
  {
   "cell_type": "markdown",
   "metadata": {},
   "source": [
    "## Part IV (20 points)"
   ]
  },
  {
   "cell_type": "markdown",
   "metadata": {},
   "source": [
    "Find the namefirst, namelast, playerid, yearid, and single-year slg (Slugging Percentage) of the players and save the results in a dataframe. For statistical significance, only include players with more than 50 at-bats in the season. Order the results by slg descending. \n",
    "\n",
    "Display the players with the 10 best annual Slugging Percentage recorded over all time. \n",
    "\n",
    "Slugging Percentage is not provided in the database. It can be computed using a formula given at https://en.wikipedia.org/wiki/Slugging_percentage and the data in the database. Note that there is one term in the formula that is not directly available as a column in the database. You will have to compute it using some of the columns. \n",
    "\n",
    "Also, you have to compute slg as a floating point number, so make sure to use SQL in a way to get this. "
   ]
  },
  {
   "cell_type": "code",
   "execution_count": 21,
   "metadata": {},
   "outputs": [],
   "source": [
    "query = \"\"\"\n",
    "SELECT DISTINCT m.namefirst, \n",
    "                m.namelast, \n",
    "                b.playerid, \n",
    "                b.yearid, \n",
    "                Round(Cast(b.[h] - b.[2b] - b.[3b] - b.[hr] + 2 * b.[2b] + 3 * \n",
    "                           b.[3b] + 4 * \n",
    "                           b.[hr] AS \n",
    "                                 FLOAT) / Cast(b.[ab] AS FLOAT), 4) AS SLG \n",
    "FROM   batting b \n",
    "       INNER JOIN master m \n",
    "               ON b.playerid = m.playerid \n",
    "WHERE  b.ab > 50 \n",
    "ORDER  BY slg DESC\n",
    "LIMIT 10; \n",
    "\"\"\"\n",
    "\n",
    "good_batters_table = create_df_sql(query, conn)"
   ]
  },
  {
   "cell_type": "code",
   "execution_count": 22,
   "metadata": {},
   "outputs": [
    {
     "data": {
      "text/html": [
       "<div>\n",
       "<style scoped>\n",
       "    .dataframe tbody tr th:only-of-type {\n",
       "        vertical-align: middle;\n",
       "    }\n",
       "\n",
       "    .dataframe tbody tr th {\n",
       "        vertical-align: top;\n",
       "    }\n",
       "\n",
       "    .dataframe thead th {\n",
       "        text-align: right;\n",
       "    }\n",
       "</style>\n",
       "<table border=\"1\" class=\"dataframe\">\n",
       "  <thead>\n",
       "    <tr style=\"text-align: right;\">\n",
       "      <th></th>\n",
       "      <th>nameFirst</th>\n",
       "      <th>nameLast</th>\n",
       "      <th>playerID</th>\n",
       "      <th>yearID</th>\n",
       "      <th>SLG</th>\n",
       "    </tr>\n",
       "  </thead>\n",
       "  <tbody>\n",
       "    <tr>\n",
       "      <th>0</th>\n",
       "      <td>Shane</td>\n",
       "      <td>Spencer</td>\n",
       "      <td>spencsh01</td>\n",
       "      <td>1998</td>\n",
       "      <td>0.9104</td>\n",
       "    </tr>\n",
       "    <tr>\n",
       "      <th>1</th>\n",
       "      <td>Ted</td>\n",
       "      <td>Williams</td>\n",
       "      <td>willite01</td>\n",
       "      <td>1953</td>\n",
       "      <td>0.9011</td>\n",
       "    </tr>\n",
       "    <tr>\n",
       "      <th>2</th>\n",
       "      <td>Barry</td>\n",
       "      <td>Bonds</td>\n",
       "      <td>bondsba01</td>\n",
       "      <td>2001</td>\n",
       "      <td>0.8634</td>\n",
       "    </tr>\n",
       "    <tr>\n",
       "      <th>3</th>\n",
       "      <td>Babe</td>\n",
       "      <td>Ruth</td>\n",
       "      <td>ruthba01</td>\n",
       "      <td>1920</td>\n",
       "      <td>0.8490</td>\n",
       "    </tr>\n",
       "    <tr>\n",
       "      <th>4</th>\n",
       "      <td>Babe</td>\n",
       "      <td>Ruth</td>\n",
       "      <td>ruthba01</td>\n",
       "      <td>1921</td>\n",
       "      <td>0.8463</td>\n",
       "    </tr>\n",
       "    <tr>\n",
       "      <th>5</th>\n",
       "      <td>Jeff</td>\n",
       "      <td>Baker</td>\n",
       "      <td>bakerje03</td>\n",
       "      <td>2006</td>\n",
       "      <td>0.8246</td>\n",
       "    </tr>\n",
       "    <tr>\n",
       "      <th>6</th>\n",
       "      <td>Marlon</td>\n",
       "      <td>Anderson</td>\n",
       "      <td>anderma02</td>\n",
       "      <td>2006</td>\n",
       "      <td>0.8125</td>\n",
       "    </tr>\n",
       "    <tr>\n",
       "      <th>7</th>\n",
       "      <td>Barry</td>\n",
       "      <td>Bonds</td>\n",
       "      <td>bondsba01</td>\n",
       "      <td>2004</td>\n",
       "      <td>0.8123</td>\n",
       "    </tr>\n",
       "    <tr>\n",
       "      <th>8</th>\n",
       "      <td>Barry</td>\n",
       "      <td>Bonds</td>\n",
       "      <td>bondsba01</td>\n",
       "      <td>2002</td>\n",
       "      <td>0.7990</td>\n",
       "    </tr>\n",
       "    <tr>\n",
       "      <th>9</th>\n",
       "      <td>Babe</td>\n",
       "      <td>Ruth</td>\n",
       "      <td>ruthba01</td>\n",
       "      <td>1927</td>\n",
       "      <td>0.7722</td>\n",
       "    </tr>\n",
       "  </tbody>\n",
       "</table>\n",
       "</div>"
      ],
      "text/plain": [
       "  nameFirst  nameLast   playerID  yearID     SLG\n",
       "0     Shane   Spencer  spencsh01    1998  0.9104\n",
       "1       Ted  Williams  willite01    1953  0.9011\n",
       "2     Barry     Bonds  bondsba01    2001  0.8634\n",
       "3      Babe      Ruth   ruthba01    1920  0.8490\n",
       "4      Babe      Ruth   ruthba01    1921  0.8463\n",
       "5      Jeff     Baker  bakerje03    2006  0.8246\n",
       "6    Marlon  Anderson  anderma02    2006  0.8125\n",
       "7     Barry     Bonds  bondsba01    2004  0.8123\n",
       "8     Barry     Bonds  bondsba01    2002  0.7990\n",
       "9      Babe      Ruth   ruthba01    1927  0.7722"
      ]
     },
     "execution_count": 22,
     "metadata": {},
     "output_type": "execute_result"
    }
   ],
   "source": [
    "good_batters_table"
   ]
  },
  {
   "cell_type": "markdown",
   "metadata": {},
   "source": [
    "Display the players with the 10 best annual Slugging Percentage recorded over all time. "
   ]
  },
  {
   "cell_type": "markdown",
   "metadata": {},
   "source": [
    "## Part V (20 points)"
   ]
  },
  {
   "cell_type": "markdown",
   "metadata": {},
   "source": [
    "(i) Find the yearid, min, max, and average of all player salaries for each year recorded, ordered by yearid in ascending order. Save the results as a dataframe and display it. \n",
    "\n",
    "(ii) For the player salaries in 2016, display a histogram with 10 bins. You may use the dataframe.hist(bin=10) function to do this. Also, it may be nicer to divide the salaries by 1,000,000 to show the amounts in millions. "
   ]
  },
  {
   "cell_type": "markdown",
   "metadata": {},
   "source": [
    "(i) Find the yearid, min, max, and average of all player salaries for each year recorded, ordered by yearid in ascending order. Save the results as a dataframe and display it."
   ]
  },
  {
   "cell_type": "code",
   "execution_count": 23,
   "metadata": {},
   "outputs": [],
   "source": [
    "query = \"\"\"\n",
    "SELECT s.yearid, \n",
    "       Min(s.salary) AS \"minSalary\", \n",
    "       Max(s.salary) AS \"maxSalary\", \n",
    "       Avg(s.salary) AS \"avgSalary\" \n",
    "FROM   salaries s \n",
    "GROUP  BY s.yearid \n",
    "ORDER  BY s.yearid ASC;\n",
    "\"\"\"\n",
    "\n",
    "salary_info_table = create_df_sql(query, conn)"
   ]
  },
  {
   "cell_type": "code",
   "execution_count": 24,
   "metadata": {},
   "outputs": [
    {
     "data": {
      "text/html": [
       "<div>\n",
       "<style scoped>\n",
       "    .dataframe tbody tr th:only-of-type {\n",
       "        vertical-align: middle;\n",
       "    }\n",
       "\n",
       "    .dataframe tbody tr th {\n",
       "        vertical-align: top;\n",
       "    }\n",
       "\n",
       "    .dataframe thead th {\n",
       "        text-align: right;\n",
       "    }\n",
       "</style>\n",
       "<table border=\"1\" class=\"dataframe\">\n",
       "  <thead>\n",
       "    <tr style=\"text-align: right;\">\n",
       "      <th></th>\n",
       "      <th>yearID</th>\n",
       "      <th>minSalary</th>\n",
       "      <th>maxSalary</th>\n",
       "      <th>avgSalary</th>\n",
       "    </tr>\n",
       "  </thead>\n",
       "  <tbody>\n",
       "    <tr>\n",
       "      <th>0</th>\n",
       "      <td>1985</td>\n",
       "      <td>60000.0</td>\n",
       "      <td>2130300.0</td>\n",
       "      <td>4.762994e+05</td>\n",
       "    </tr>\n",
       "    <tr>\n",
       "      <th>1</th>\n",
       "      <td>1986</td>\n",
       "      <td>60000.0</td>\n",
       "      <td>2800000.0</td>\n",
       "      <td>4.171470e+05</td>\n",
       "    </tr>\n",
       "    <tr>\n",
       "      <th>2</th>\n",
       "      <td>1987</td>\n",
       "      <td>62500.0</td>\n",
       "      <td>2127333.0</td>\n",
       "      <td>4.347295e+05</td>\n",
       "    </tr>\n",
       "    <tr>\n",
       "      <th>3</th>\n",
       "      <td>1988</td>\n",
       "      <td>62500.0</td>\n",
       "      <td>2340000.0</td>\n",
       "      <td>4.531711e+05</td>\n",
       "    </tr>\n",
       "    <tr>\n",
       "      <th>4</th>\n",
       "      <td>1989</td>\n",
       "      <td>62500.0</td>\n",
       "      <td>2766667.0</td>\n",
       "      <td>5.063231e+05</td>\n",
       "    </tr>\n",
       "    <tr>\n",
       "      <th>5</th>\n",
       "      <td>1990</td>\n",
       "      <td>100000.0</td>\n",
       "      <td>3200000.0</td>\n",
       "      <td>5.119737e+05</td>\n",
       "    </tr>\n",
       "    <tr>\n",
       "      <th>6</th>\n",
       "      <td>1991</td>\n",
       "      <td>100000.0</td>\n",
       "      <td>3800000.0</td>\n",
       "      <td>8.949612e+05</td>\n",
       "    </tr>\n",
       "    <tr>\n",
       "      <th>7</th>\n",
       "      <td>1992</td>\n",
       "      <td>109000.0</td>\n",
       "      <td>6100000.0</td>\n",
       "      <td>1.047521e+06</td>\n",
       "    </tr>\n",
       "    <tr>\n",
       "      <th>8</th>\n",
       "      <td>1993</td>\n",
       "      <td>0.0</td>\n",
       "      <td>6200000.0</td>\n",
       "      <td>9.769666e+05</td>\n",
       "    </tr>\n",
       "    <tr>\n",
       "      <th>9</th>\n",
       "      <td>1994</td>\n",
       "      <td>50000.0</td>\n",
       "      <td>6300000.0</td>\n",
       "      <td>1.049589e+06</td>\n",
       "    </tr>\n",
       "    <tr>\n",
       "      <th>10</th>\n",
       "      <td>1995</td>\n",
       "      <td>109000.0</td>\n",
       "      <td>9237500.0</td>\n",
       "      <td>9.649791e+05</td>\n",
       "    </tr>\n",
       "    <tr>\n",
       "      <th>11</th>\n",
       "      <td>1996</td>\n",
       "      <td>109000.0</td>\n",
       "      <td>9237500.0</td>\n",
       "      <td>1.027909e+06</td>\n",
       "    </tr>\n",
       "    <tr>\n",
       "      <th>12</th>\n",
       "      <td>1997</td>\n",
       "      <td>50000.0</td>\n",
       "      <td>10000000.0</td>\n",
       "      <td>1.218687e+06</td>\n",
       "    </tr>\n",
       "    <tr>\n",
       "      <th>13</th>\n",
       "      <td>1998</td>\n",
       "      <td>170000.0</td>\n",
       "      <td>14936667.0</td>\n",
       "      <td>1.280845e+06</td>\n",
       "    </tr>\n",
       "    <tr>\n",
       "      <th>14</th>\n",
       "      <td>1999</td>\n",
       "      <td>0.0</td>\n",
       "      <td>11949794.0</td>\n",
       "      <td>1.485317e+06</td>\n",
       "    </tr>\n",
       "    <tr>\n",
       "      <th>15</th>\n",
       "      <td>2000</td>\n",
       "      <td>200000.0</td>\n",
       "      <td>15714286.0</td>\n",
       "      <td>1.992985e+06</td>\n",
       "    </tr>\n",
       "    <tr>\n",
       "      <th>16</th>\n",
       "      <td>2001</td>\n",
       "      <td>200000.0</td>\n",
       "      <td>22000000.0</td>\n",
       "      <td>2.279841e+06</td>\n",
       "    </tr>\n",
       "    <tr>\n",
       "      <th>17</th>\n",
       "      <td>2002</td>\n",
       "      <td>200000.0</td>\n",
       "      <td>22000000.0</td>\n",
       "      <td>2.392527e+06</td>\n",
       "    </tr>\n",
       "    <tr>\n",
       "      <th>18</th>\n",
       "      <td>2003</td>\n",
       "      <td>165574.0</td>\n",
       "      <td>22000000.0</td>\n",
       "      <td>2.573473e+06</td>\n",
       "    </tr>\n",
       "    <tr>\n",
       "      <th>19</th>\n",
       "      <td>2004</td>\n",
       "      <td>300000.0</td>\n",
       "      <td>22500000.0</td>\n",
       "      <td>2.491776e+06</td>\n",
       "    </tr>\n",
       "    <tr>\n",
       "      <th>20</th>\n",
       "      <td>2005</td>\n",
       "      <td>300000.0</td>\n",
       "      <td>26000000.0</td>\n",
       "      <td>2.633831e+06</td>\n",
       "    </tr>\n",
       "    <tr>\n",
       "      <th>21</th>\n",
       "      <td>2006</td>\n",
       "      <td>327000.0</td>\n",
       "      <td>21680727.0</td>\n",
       "      <td>2.834521e+06</td>\n",
       "    </tr>\n",
       "    <tr>\n",
       "      <th>22</th>\n",
       "      <td>2007</td>\n",
       "      <td>380000.0</td>\n",
       "      <td>23428571.0</td>\n",
       "      <td>2.941436e+06</td>\n",
       "    </tr>\n",
       "    <tr>\n",
       "      <th>23</th>\n",
       "      <td>2008</td>\n",
       "      <td>390000.0</td>\n",
       "      <td>28000000.0</td>\n",
       "      <td>3.136517e+06</td>\n",
       "    </tr>\n",
       "    <tr>\n",
       "      <th>24</th>\n",
       "      <td>2009</td>\n",
       "      <td>400000.0</td>\n",
       "      <td>33000000.0</td>\n",
       "      <td>3.277647e+06</td>\n",
       "    </tr>\n",
       "    <tr>\n",
       "      <th>25</th>\n",
       "      <td>2010</td>\n",
       "      <td>400000.0</td>\n",
       "      <td>33000000.0</td>\n",
       "      <td>3.278747e+06</td>\n",
       "    </tr>\n",
       "    <tr>\n",
       "      <th>26</th>\n",
       "      <td>2011</td>\n",
       "      <td>414000.0</td>\n",
       "      <td>32000000.0</td>\n",
       "      <td>3.318838e+06</td>\n",
       "    </tr>\n",
       "    <tr>\n",
       "      <th>27</th>\n",
       "      <td>2012</td>\n",
       "      <td>480000.0</td>\n",
       "      <td>30000000.0</td>\n",
       "      <td>3.458421e+06</td>\n",
       "    </tr>\n",
       "    <tr>\n",
       "      <th>28</th>\n",
       "      <td>2013</td>\n",
       "      <td>480000.0</td>\n",
       "      <td>29000000.0</td>\n",
       "      <td>3.723344e+06</td>\n",
       "    </tr>\n",
       "    <tr>\n",
       "      <th>29</th>\n",
       "      <td>2014</td>\n",
       "      <td>500000.0</td>\n",
       "      <td>26000000.0</td>\n",
       "      <td>3.980446e+06</td>\n",
       "    </tr>\n",
       "    <tr>\n",
       "      <th>30</th>\n",
       "      <td>2015</td>\n",
       "      <td>507000.0</td>\n",
       "      <td>32571000.0</td>\n",
       "      <td>4.301276e+06</td>\n",
       "    </tr>\n",
       "    <tr>\n",
       "      <th>31</th>\n",
       "      <td>2016</td>\n",
       "      <td>507500.0</td>\n",
       "      <td>33000000.0</td>\n",
       "      <td>4.396410e+06</td>\n",
       "    </tr>\n",
       "  </tbody>\n",
       "</table>\n",
       "</div>"
      ],
      "text/plain": [
       "    yearID  minSalary   maxSalary     avgSalary\n",
       "0     1985    60000.0   2130300.0  4.762994e+05\n",
       "1     1986    60000.0   2800000.0  4.171470e+05\n",
       "2     1987    62500.0   2127333.0  4.347295e+05\n",
       "3     1988    62500.0   2340000.0  4.531711e+05\n",
       "4     1989    62500.0   2766667.0  5.063231e+05\n",
       "5     1990   100000.0   3200000.0  5.119737e+05\n",
       "6     1991   100000.0   3800000.0  8.949612e+05\n",
       "7     1992   109000.0   6100000.0  1.047521e+06\n",
       "8     1993        0.0   6200000.0  9.769666e+05\n",
       "9     1994    50000.0   6300000.0  1.049589e+06\n",
       "10    1995   109000.0   9237500.0  9.649791e+05\n",
       "11    1996   109000.0   9237500.0  1.027909e+06\n",
       "12    1997    50000.0  10000000.0  1.218687e+06\n",
       "13    1998   170000.0  14936667.0  1.280845e+06\n",
       "14    1999        0.0  11949794.0  1.485317e+06\n",
       "15    2000   200000.0  15714286.0  1.992985e+06\n",
       "16    2001   200000.0  22000000.0  2.279841e+06\n",
       "17    2002   200000.0  22000000.0  2.392527e+06\n",
       "18    2003   165574.0  22000000.0  2.573473e+06\n",
       "19    2004   300000.0  22500000.0  2.491776e+06\n",
       "20    2005   300000.0  26000000.0  2.633831e+06\n",
       "21    2006   327000.0  21680727.0  2.834521e+06\n",
       "22    2007   380000.0  23428571.0  2.941436e+06\n",
       "23    2008   390000.0  28000000.0  3.136517e+06\n",
       "24    2009   400000.0  33000000.0  3.277647e+06\n",
       "25    2010   400000.0  33000000.0  3.278747e+06\n",
       "26    2011   414000.0  32000000.0  3.318838e+06\n",
       "27    2012   480000.0  30000000.0  3.458421e+06\n",
       "28    2013   480000.0  29000000.0  3.723344e+06\n",
       "29    2014   500000.0  26000000.0  3.980446e+06\n",
       "30    2015   507000.0  32571000.0  4.301276e+06\n",
       "31    2016   507500.0  33000000.0  4.396410e+06"
      ]
     },
     "execution_count": 24,
     "metadata": {},
     "output_type": "execute_result"
    }
   ],
   "source": [
    "salary_info_table"
   ]
  },
  {
   "cell_type": "markdown",
   "metadata": {},
   "source": [
    "(ii) For the player salaries in 2016, display a histogram with 10 bins. You may use the dataframe.hist(bin=10) function to do this. Also, it may be nicer to divide the salaries by 1,000,000 to show the amounts in millions."
   ]
  },
  {
   "cell_type": "code",
   "execution_count": 25,
   "metadata": {},
   "outputs": [],
   "source": [
    "query = \"\"\"\n",
    "SELECT salary / 1000000.0 AS \"2016 Salaries in Millions\" FROM Salaries WHERE yearid = 2016;\n",
    "\"\"\"\n",
    "salaries_2016 = create_df_sql(query, conn)"
   ]
  },
  {
   "cell_type": "code",
   "execution_count": 26,
   "metadata": {},
   "outputs": [
    {
     "data": {
      "text/plain": [
       "array([[<matplotlib.axes._subplots.AxesSubplot object at 0x000001D59595F8B0>]],\n",
       "      dtype=object)"
      ]
     },
     "execution_count": 26,
     "metadata": {},
     "output_type": "execute_result"
    },
    {
     "data": {
      "image/png": "[encoded data removed]",
      "text/plain": [
       "<Figure size 432x288 with 1 Axes>"
      ]
     },
     "metadata": {
      "needs_background": "light"
     },
     "output_type": "display_data"
    }
   ],
   "source": [
    "salaries_2016.hist(bins=10)"
   ]
  },
  {
   "cell_type": "markdown",
   "metadata": {},
   "source": [
    "## Part VI (10 points)"
   ]
  },
  {
   "cell_type": "markdown",
   "metadata": {},
   "source": [
    "Extract and display a facet of the dataset that you think is interesting. This should not be a facet from Parts I-V. "
   ]
  },
  {
   "cell_type": "markdown",
   "metadata": {},
   "source": [
    "best performing states"
   ]
  },
  {
   "cell_type": "code",
   "execution_count": 27,
   "metadata": {},
   "outputs": [],
   "source": [
    "query = \"\"\"\n",
    "SELECT DISTINCT s.state,\n",
    "                Count(h.playerid) AS \"inductedMemberCount\"\n",
    "FROM   halloffame h,\n",
    "       schools s,\n",
    "       collegeplaying c\n",
    "WHERE  h.playerid = c.playerid\n",
    "       AND h.inducted = 'Y'\n",
    "       AND c.schoolid = s.schoolid\n",
    "GROUP  BY s.state\n",
    "ORDER  BY inductedmembercount DESC,\n",
    "          s.state; \n",
    "\"\"\"\n",
    "\n",
    "top_states_baseball = create_df_sql(query, conn)"
   ]
  },
  {
   "cell_type": "code",
   "execution_count": 28,
   "metadata": {},
   "outputs": [
    {
     "data": {
      "text/html": [
       "<div>\n",
       "<style scoped>\n",
       "    .dataframe tbody tr th:only-of-type {\n",
       "        vertical-align: middle;\n",
       "    }\n",
       "\n",
       "    .dataframe tbody tr th {\n",
       "        vertical-align: top;\n",
       "    }\n",
       "\n",
       "    .dataframe thead th {\n",
       "        text-align: right;\n",
       "    }\n",
       "</style>\n",
       "<table border=\"1\" class=\"dataframe\">\n",
       "  <thead>\n",
       "    <tr style=\"text-align: right;\">\n",
       "      <th></th>\n",
       "      <th>state</th>\n",
       "      <th>inductedMemberCount</th>\n",
       "    </tr>\n",
       "  </thead>\n",
       "  <tbody>\n",
       "    <tr>\n",
       "      <th>0</th>\n",
       "      <td>CA</td>\n",
       "      <td>21</td>\n",
       "    </tr>\n",
       "    <tr>\n",
       "      <th>1</th>\n",
       "      <td>NY</td>\n",
       "      <td>15</td>\n",
       "    </tr>\n",
       "    <tr>\n",
       "      <th>2</th>\n",
       "      <td>PA</td>\n",
       "      <td>10</td>\n",
       "    </tr>\n",
       "    <tr>\n",
       "      <th>3</th>\n",
       "      <td>OH</td>\n",
       "      <td>9</td>\n",
       "    </tr>\n",
       "    <tr>\n",
       "      <th>4</th>\n",
       "      <td>MI</td>\n",
       "      <td>8</td>\n",
       "    </tr>\n",
       "    <tr>\n",
       "      <th>5</th>\n",
       "      <td>AL</td>\n",
       "      <td>7</td>\n",
       "    </tr>\n",
       "    <tr>\n",
       "      <th>6</th>\n",
       "      <td>FL</td>\n",
       "      <td>7</td>\n",
       "    </tr>\n",
       "    <tr>\n",
       "      <th>7</th>\n",
       "      <td>MN</td>\n",
       "      <td>6</td>\n",
       "    </tr>\n",
       "    <tr>\n",
       "      <th>8</th>\n",
       "      <td>KY</td>\n",
       "      <td>5</td>\n",
       "    </tr>\n",
       "    <tr>\n",
       "      <th>9</th>\n",
       "      <td>TX</td>\n",
       "      <td>5</td>\n",
       "    </tr>\n",
       "    <tr>\n",
       "      <th>10</th>\n",
       "      <td>IL</td>\n",
       "      <td>4</td>\n",
       "    </tr>\n",
       "    <tr>\n",
       "      <th>11</th>\n",
       "      <td>MA</td>\n",
       "      <td>4</td>\n",
       "    </tr>\n",
       "    <tr>\n",
       "      <th>12</th>\n",
       "      <td>NE</td>\n",
       "      <td>4</td>\n",
       "    </tr>\n",
       "    <tr>\n",
       "      <th>13</th>\n",
       "      <td>CT</td>\n",
       "      <td>3</td>\n",
       "    </tr>\n",
       "    <tr>\n",
       "      <th>14</th>\n",
       "      <td>IN</td>\n",
       "      <td>3</td>\n",
       "    </tr>\n",
       "    <tr>\n",
       "      <th>15</th>\n",
       "      <td>LA</td>\n",
       "      <td>3</td>\n",
       "    </tr>\n",
       "    <tr>\n",
       "      <th>16</th>\n",
       "      <td>NC</td>\n",
       "      <td>3</td>\n",
       "    </tr>\n",
       "    <tr>\n",
       "      <th>17</th>\n",
       "      <td>NJ</td>\n",
       "      <td>3</td>\n",
       "    </tr>\n",
       "    <tr>\n",
       "      <th>18</th>\n",
       "      <td>OR</td>\n",
       "      <td>2</td>\n",
       "    </tr>\n",
       "    <tr>\n",
       "      <th>19</th>\n",
       "      <td>VA</td>\n",
       "      <td>2</td>\n",
       "    </tr>\n",
       "    <tr>\n",
       "      <th>20</th>\n",
       "      <td>AZ</td>\n",
       "      <td>1</td>\n",
       "    </tr>\n",
       "    <tr>\n",
       "      <th>21</th>\n",
       "      <td>DE</td>\n",
       "      <td>1</td>\n",
       "    </tr>\n",
       "    <tr>\n",
       "      <th>22</th>\n",
       "      <td>IA</td>\n",
       "      <td>1</td>\n",
       "    </tr>\n",
       "    <tr>\n",
       "      <th>23</th>\n",
       "      <td>NH</td>\n",
       "      <td>1</td>\n",
       "    </tr>\n",
       "    <tr>\n",
       "      <th>24</th>\n",
       "      <td>OK</td>\n",
       "      <td>1</td>\n",
       "    </tr>\n",
       "    <tr>\n",
       "      <th>25</th>\n",
       "      <td>WI</td>\n",
       "      <td>1</td>\n",
       "    </tr>\n",
       "  </tbody>\n",
       "</table>\n",
       "</div>"
      ],
      "text/plain": [
       "   state  inductedMemberCount\n",
       "0     CA                   21\n",
       "1     NY                   15\n",
       "2     PA                   10\n",
       "3     OH                    9\n",
       "4     MI                    8\n",
       "5     AL                    7\n",
       "6     FL                    7\n",
       "7     MN                    6\n",
       "8     KY                    5\n",
       "9     TX                    5\n",
       "10    IL                    4\n",
       "11    MA                    4\n",
       "12    NE                    4\n",
       "13    CT                    3\n",
       "14    IN                    3\n",
       "15    LA                    3\n",
       "16    NC                    3\n",
       "17    NJ                    3\n",
       "18    OR                    2\n",
       "19    VA                    2\n",
       "20    AZ                    1\n",
       "21    DE                    1\n",
       "22    IA                    1\n",
       "23    NH                    1\n",
       "24    OK                    1\n",
       "25    WI                    1"
      ]
     },
     "execution_count": 28,
     "metadata": {},
     "output_type": "execute_result"
    }
   ],
   "source": [
    "top_states_baseball"
   ]
  },
  {
   "cell_type": "markdown",
   "metadata": {},
   "source": [
    "This facet reveals that interestingly, California and New York have far more "
   ]
  },
  {
   "cell_type": "code",
   "execution_count": 29,
   "metadata": {},
   "outputs": [],
   "source": [
    "cursor.close()\n",
    "conn.close()"
   ]
  }
 ],
 "metadata": {
  "anaconda-cloud": {},
  "kernelspec": {
   "display_name": "Python 3",
   "language": "python",
   "name": "python3"
  },
  "language_info": {
   "codemirror_mode": {
    "name": "ipython",
    "version": 3
   },
   "file_extension": ".py",
   "mimetype": "text/x-python",
   "name": "python",
   "nbconvert_exporter": "python",
   "pygments_lexer": "ipython3",
   "version": "3.8.3"
  },
  "toc": {
   "base_numbering": 1,
   "nav_menu": {},
   "number_sections": true,
   "sideBar": true,
   "skip_h1_title": false,
   "title_cell": "Table of Contents",
   "title_sidebar": "Contents",
   "toc_cell": false,
   "toc_position": {},
   "toc_section_display": true,
   "toc_window_display": false
  }
 },
 "nbformat": 4,
 "nbformat_minor": 1
}
