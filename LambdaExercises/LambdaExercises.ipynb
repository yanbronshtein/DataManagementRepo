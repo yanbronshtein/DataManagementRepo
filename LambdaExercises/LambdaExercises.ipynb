{
 "cells": [
  {
   "cell_type": "code",
   "execution_count": 4,
   "metadata": {},
   "outputs": [
    {
     "name": "stdout",
     "output_type": "stream",
     "text": [
      "25\n",
      "48\n"
     ]
    }
   ],
   "source": [
    "\"\"\"\n",
    "Write a Python Program to create a lambda function that \n",
    "adds 15 to a given number passed in as an argument, \n",
    "also create a lambda function that multiplies argument x with argument y and print the result.\n",
    "\"\"\"\n",
    "add_15 = lambda num: num + 15\n",
    "print(add_15(10))\n",
    "mul = lambda x, y: x * y\n",
    "print(mul(6, 8))\n",
    "\n"
   ]
  },
  {
   "cell_type": "markdown",
   "metadata": {},
   "source": [
    "## Write a Python progam to reverse strings in a given list of string values using a lambda\n",
    "Original Lists: ['red','green','blue', 'white', 'black']"
   ]
  },
  {
   "cell_type": "code",
   "execution_count": 8,
   "metadata": {},
   "outputs": [
    {
     "data": {
      "text/plain": [
       "['der', 'neerg', 'eulb', 'etihw', 'kcalb']"
      ]
     },
     "execution_count": 8,
     "metadata": {},
     "output_type": "execute_result"
    }
   ],
   "source": [
    "original_list = ['red','green','blue', 'white', 'black']\n",
    "\n",
    "def reverse_strings_list(str_list):\n",
    "    return list(map(lambda x: ''.join(reversed(x)), str_list))\n",
    "reverse_strings_list(original_list)"
   ]
  },
  {
   "cell_type": "markdown",
   "metadata": {},
   "source": [
    "# Write a Python program to sort a list of tuples using Lambda"
   ]
  },
  {
   "cell_type": "code",
   "execution_count": 13,
   "metadata": {},
   "outputs": [
    {
     "data": {
      "text/plain": [
       "[('Maths', 97), ('Science', 90), ('English', 88), ('Social Sciences', 82)]"
      ]
     },
     "execution_count": 13,
     "metadata": {},
     "output_type": "execute_result"
    }
   ],
   "source": [
    "my_list = [(\"English\", 88), (\"Science\", 90), (\"Maths\", 97), (\"Social Sciences\", 82)]\n",
    "# my_list.sort?\n",
    "my_list.sort(key=lambda t: t[1], reverse=True)\n",
    "\n",
    "# def sort_list(my_list):\n",
    "    \n",
    "    \n",
    "my_list\n",
    "\n",
    "\n",
    "    \n",
    "    "
   ]
  },
  {
   "cell_type": "code",
   "execution_count": null,
   "metadata": {},
   "outputs": [],
   "source": []
  }
 ],
 "metadata": {
  "kernelspec": {
   "display_name": "Python 3",
   "language": "python",
   "name": "python3"
  },
  "language_info": {
   "codemirror_mode": {
    "name": "ipython",
    "version": 3
   },
   "file_extension": ".py",
   "mimetype": "text/x-python",
   "name": "python",
   "nbconvert_exporter": "python",
   "pygments_lexer": "ipython3",
   "version": "3.7.6"
  }
 },
 "nbformat": 4,
 "nbformat_minor": 4
}
