{
 "cells": [
  {
   "cell_type": "code",
   "execution_count": 1,
   "metadata": {},
   "outputs": [],
   "source": [
    "from tinydb import TinyDB, Query"
   ]
  },
  {
   "cell_type": "code",
   "execution_count": 2,
   "metadata": {},
   "outputs": [],
   "source": [
    "db = TinyDB('test.json')"
   ]
  },
  {
   "cell_type": "code",
   "execution_count": 3,
   "metadata": {},
   "outputs": [
    {
     "data": {
      "text/plain": [
       "2"
      ]
     },
     "execution_count": 3,
     "metadata": {},
     "output_type": "execute_result"
    }
   ],
   "source": [
    "db.insert({'course': 'stats-sw', 'year': 2017, 'students': 11})\n",
    "db.insert({'course': 'stats-sw', 'year': 2018, 'students': 21})"
   ]
  },
  {
   "cell_type": "code",
   "execution_count": 4,
   "metadata": {},
   "outputs": [
    {
     "data": {
      "text/plain": [
       "[{'course': 'stats-sw', 'year': 2017, 'students': 11},\n",
       " {'course': 'stats-sw', 'year': 2018, 'students': 21}]"
      ]
     },
     "execution_count": 4,
     "metadata": {},
     "output_type": "execute_result"
    }
   ],
   "source": [
    "db.all()"
   ]
  },
  {
   "cell_type": "code",
   "execution_count": 5,
   "metadata": {},
   "outputs": [
    {
     "name": "stdout",
     "output_type": "stream",
     "text": [
      "{'course': 'stats-sw', 'year': 2017, 'students': 11}\n",
      "{'course': 'stats-sw', 'year': 2018, 'students': 21}\n"
     ]
    }
   ],
   "source": [
    "for item in db:\n",
    "    print(item)"
   ]
  },
  {
   "cell_type": "code",
   "execution_count": 6,
   "metadata": {},
   "outputs": [
    {
     "data": {
      "text/plain": [
       "4"
      ]
     },
     "execution_count": 6,
     "metadata": {},
     "output_type": "execute_result"
    }
   ],
   "source": [
    "db.insert({'course': 'db-management', 'year': 2019, 'students': 21})\n",
    "db.insert({'course': 'stats-sw', 'year': 2019, 'students': 24})"
   ]
  },
  {
   "cell_type": "code",
   "execution_count": 7,
   "metadata": {},
   "outputs": [
    {
     "data": {
      "text/plain": [
       "[{'course': 'db-management', 'year': 2019, 'students': 21},\n",
       " {'course': 'stats-sw', 'year': 2019, 'students': 24}]"
      ]
     },
     "execution_count": 7,
     "metadata": {},
     "output_type": "execute_result"
    }
   ],
   "source": [
    "q = Query()\n",
    "db.search(q.year==2019)"
   ]
  },
  {
   "cell_type": "code",
   "execution_count": 8,
   "metadata": {},
   "outputs": [
    {
     "data": {
      "text/plain": [
       "[{'course': 'stats-sw', 'year': 2017, 'students': 11},\n",
       " {'course': 'stats-sw', 'year': 2018, 'students': 21},\n",
       " {'course': 'stats-sw', 'year': 2019, 'students': 24}]"
      ]
     },
     "execution_count": 8,
     "metadata": {},
     "output_type": "execute_result"
    }
   ],
   "source": [
    "db.search(q.course=='stats-sw')"
   ]
  },
  {
   "cell_type": "code",
   "execution_count": 9,
   "metadata": {},
   "outputs": [
    {
     "data": {
      "text/plain": [
       "[1, 2, 4]"
      ]
     },
     "execution_count": 9,
     "metadata": {},
     "output_type": "execute_result"
    }
   ],
   "source": [
    "db.update({'students':20}, q.course=='stats-sw')"
   ]
  },
  {
   "cell_type": "code",
   "execution_count": 10,
   "metadata": {},
   "outputs": [
    {
     "data": {
      "text/plain": [
       "[{'course': 'stats-sw', 'year': 2017, 'students': 20},\n",
       " {'course': 'stats-sw', 'year': 2018, 'students': 20},\n",
       " {'course': 'db-management', 'year': 2019, 'students': 21},\n",
       " {'course': 'stats-sw', 'year': 2019, 'students': 20}]"
      ]
     },
     "execution_count": 10,
     "metadata": {},
     "output_type": "execute_result"
    }
   ],
   "source": [
    "db.all()"
   ]
  },
  {
   "cell_type": "code",
   "execution_count": 11,
   "metadata": {},
   "outputs": [
    {
     "data": {
      "text/plain": [
       "[3]"
      ]
     },
     "execution_count": 11,
     "metadata": {},
     "output_type": "execute_result"
    }
   ],
   "source": [
    "db.remove(q.students>20)"
   ]
  },
  {
   "cell_type": "code",
   "execution_count": 12,
   "metadata": {},
   "outputs": [
    {
     "data": {
      "text/plain": [
       "[{'course': 'stats-sw', 'year': 2017, 'students': 20},\n",
       " {'course': 'stats-sw', 'year': 2018, 'students': 20},\n",
       " {'course': 'stats-sw', 'year': 2019, 'students': 20}]"
      ]
     },
     "execution_count": 12,
     "metadata": {},
     "output_type": "execute_result"
    }
   ],
   "source": [
    "db.all()"
   ]
  },
  {
   "cell_type": "code",
   "execution_count": 13,
   "metadata": {},
   "outputs": [],
   "source": [
    "db.purge()"
   ]
  },
  {
   "cell_type": "code",
   "execution_count": 14,
   "metadata": {},
   "outputs": [
    {
     "data": {
      "text/plain": [
       "[]"
      ]
     },
     "execution_count": 14,
     "metadata": {},
     "output_type": "execute_result"
    }
   ],
   "source": [
    "db.all()"
   ]
  },
  {
   "cell_type": "code",
   "execution_count": 15,
   "metadata": {},
   "outputs": [
    {
     "data": {
      "text/plain": [
       "2"
      ]
     },
     "execution_count": 15,
     "metadata": {},
     "output_type": "execute_result"
    }
   ],
   "source": [
    "db.insert({'course': 'stats-sw', 'year': 2017, 'students': 11})\n",
    "db.insert({'course': 'stats-sw', 'year': 2018, 'students': 21, 'book': 'Python for Data Science'})"
   ]
  },
  {
   "cell_type": "code",
   "execution_count": 16,
   "metadata": {},
   "outputs": [
    {
     "data": {
      "text/plain": [
       "[{'course': 'stats-sw', 'year': 2017, 'students': 11},\n",
       " {'course': 'stats-sw',\n",
       "  'year': 2018,\n",
       "  'students': 21,\n",
       "  'book': 'Python for Data Science'}]"
      ]
     },
     "execution_count": 16,
     "metadata": {},
     "output_type": "execute_result"
    }
   ],
   "source": [
    "db.all()"
   ]
  },
  {
   "cell_type": "code",
   "execution_count": 17,
   "metadata": {},
   "outputs": [
    {
     "data": {
      "text/plain": [
       "3"
      ]
     },
     "execution_count": 17,
     "metadata": {},
     "output_type": "execute_result"
    }
   ],
   "source": [
    "db.insert({'course': 'stats-sw', 'year': 2019, 'book': 'Python for Data Science'})"
   ]
  },
  {
   "cell_type": "code",
   "execution_count": 18,
   "metadata": {},
   "outputs": [
    {
     "data": {
      "text/plain": [
       "[{'course': 'stats-sw', 'year': 2017, 'students': 11},\n",
       " {'course': 'stats-sw',\n",
       "  'year': 2018,\n",
       "  'students': 21,\n",
       "  'book': 'Python for Data Science'},\n",
       " {'course': 'stats-sw', 'year': 2019, 'book': 'Python for Data Science'}]"
      ]
     },
     "execution_count": 18,
     "metadata": {},
     "output_type": "execute_result"
    }
   ],
   "source": [
    "db.all()"
   ]
  },
  {
   "cell_type": "code",
   "execution_count": 19,
   "metadata": {},
   "outputs": [
    {
     "data": {
      "text/plain": [
       "[3]"
      ]
     },
     "execution_count": 19,
     "metadata": {},
     "output_type": "execute_result"
    }
   ],
   "source": [
    "db.update({'students':24}, q.year==2019)"
   ]
  },
  {
   "cell_type": "code",
   "execution_count": 20,
   "metadata": {},
   "outputs": [
    {
     "data": {
      "text/plain": [
       "[{'course': 'stats-sw', 'year': 2017, 'students': 11},\n",
       " {'course': 'stats-sw',\n",
       "  'year': 2018,\n",
       "  'students': 21,\n",
       "  'book': 'Python for Data Science'},\n",
       " {'course': 'stats-sw',\n",
       "  'year': 2019,\n",
       "  'book': 'Python for Data Science',\n",
       "  'students': 24}]"
      ]
     },
     "execution_count": 20,
     "metadata": {},
     "output_type": "execute_result"
    }
   ],
   "source": [
    "db.all()"
   ]
  },
  {
   "cell_type": "code",
   "execution_count": 21,
   "metadata": {},
   "outputs": [
    {
     "data": {
      "text/plain": [
       "[3]"
      ]
     },
     "execution_count": 21,
     "metadata": {},
     "output_type": "execute_result"
    }
   ],
   "source": [
    "db.update({'office hours': {'time': '5-6pm', 'loc': 'SEC 206'}}, q.year==2019)"
   ]
  },
  {
   "cell_type": "code",
   "execution_count": 22,
   "metadata": {},
   "outputs": [
    {
     "data": {
      "text/plain": [
       "[{'course': 'stats-sw', 'year': 2017, 'students': 11},\n",
       " {'course': 'stats-sw',\n",
       "  'year': 2018,\n",
       "  'students': 21,\n",
       "  'book': 'Python for Data Science'},\n",
       " {'course': 'stats-sw',\n",
       "  'year': 2019,\n",
       "  'book': 'Python for Data Science',\n",
       "  'students': 24,\n",
       "  'office hours': {'time': '5-6pm', 'loc': 'SEC 206'}}]"
      ]
     },
     "execution_count": 22,
     "metadata": {},
     "output_type": "execute_result"
    }
   ],
   "source": [
    "db.all()"
   ]
  },
  {
   "cell_type": "code",
   "execution_count": 23,
   "metadata": {},
   "outputs": [
    {
     "data": {
      "text/plain": [
       "4"
      ]
     },
     "execution_count": 23,
     "metadata": {},
     "output_type": "execute_result"
    }
   ],
   "source": [
    "db.insert({'course': 'stats-sw', 'year': 2019, 'book': 'Python for Data Science'})"
   ]
  },
  {
   "cell_type": "code",
   "execution_count": 24,
   "metadata": {},
   "outputs": [
    {
     "data": {
      "text/plain": [
       "[{'course': 'stats-sw', 'year': 2017, 'students': 11},\n",
       " {'course': 'stats-sw',\n",
       "  'year': 2018,\n",
       "  'students': 21,\n",
       "  'book': 'Python for Data Science'},\n",
       " {'course': 'stats-sw',\n",
       "  'year': 2019,\n",
       "  'book': 'Python for Data Science',\n",
       "  'students': 24,\n",
       "  'office hours': {'time': '5-6pm', 'loc': 'SEC 206'}},\n",
       " {'course': 'stats-sw', 'year': 2019, 'book': 'Python for Data Science'}]"
      ]
     },
     "execution_count": 24,
     "metadata": {},
     "output_type": "execute_result"
    }
   ],
   "source": [
    "db.all()"
   ]
  },
  {
   "cell_type": "code",
   "execution_count": 25,
   "metadata": {},
   "outputs": [
    {
     "data": {
      "text/plain": [
       "5"
      ]
     },
     "execution_count": 25,
     "metadata": {},
     "output_type": "execute_result"
    }
   ],
   "source": [
    "db.insert({'course': 'stats-sw', 'year': 2019, 'book': 'Python for Data Science'})"
   ]
  },
  {
   "cell_type": "code",
   "execution_count": 26,
   "metadata": {},
   "outputs": [
    {
     "data": {
      "text/plain": [
       "[{'course': 'stats-sw', 'year': 2017, 'students': 11},\n",
       " {'course': 'stats-sw',\n",
       "  'year': 2018,\n",
       "  'students': 21,\n",
       "  'book': 'Python for Data Science'},\n",
       " {'course': 'stats-sw',\n",
       "  'year': 2019,\n",
       "  'book': 'Python for Data Science',\n",
       "  'students': 24,\n",
       "  'office hours': {'time': '5-6pm', 'loc': 'SEC 206'}},\n",
       " {'course': 'stats-sw', 'year': 2019, 'book': 'Python for Data Science'},\n",
       " {'course': 'stats-sw', 'year': 2019, 'book': 'Python for Data Science'}]"
      ]
     },
     "execution_count": 26,
     "metadata": {},
     "output_type": "execute_result"
    }
   ],
   "source": [
    "db.all()"
   ]
  },
  {
   "cell_type": "code",
   "execution_count": 27,
   "metadata": {},
   "outputs": [
    {
     "data": {
      "text/plain": [
       "6"
      ]
     },
     "execution_count": 27,
     "metadata": {},
     "output_type": "execute_result"
    }
   ],
   "source": [
    "db.insert({'year': 2019, 'year': 2020})"
   ]
  },
  {
   "cell_type": "code",
   "execution_count": 28,
   "metadata": {},
   "outputs": [
    {
     "data": {
      "text/plain": [
       "[{'course': 'stats-sw', 'year': 2017, 'students': 11},\n",
       " {'course': 'stats-sw',\n",
       "  'year': 2018,\n",
       "  'students': 21,\n",
       "  'book': 'Python for Data Science'},\n",
       " {'course': 'stats-sw',\n",
       "  'year': 2019,\n",
       "  'book': 'Python for Data Science',\n",
       "  'students': 24,\n",
       "  'office hours': {'time': '5-6pm', 'loc': 'SEC 206'}},\n",
       " {'course': 'stats-sw', 'year': 2019, 'book': 'Python for Data Science'},\n",
       " {'course': 'stats-sw', 'year': 2019, 'book': 'Python for Data Science'},\n",
       " {'year': 2020}]"
      ]
     },
     "execution_count": 28,
     "metadata": {},
     "output_type": "execute_result"
    }
   ],
   "source": [
    "db.all()"
   ]
  },
  {
   "cell_type": "code",
   "execution_count": null,
   "metadata": {
    "collapsed": true
   },
   "outputs": [],
   "source": []
  }
 ],
 "metadata": {
  "kernelspec": {
   "display_name": "Python 3",
   "language": "python",
   "name": "python3"
  },
  "language_info": {
   "codemirror_mode": {
    "name": "ipython",
    "version": 3
   },
   "file_extension": ".py",
   "mimetype": "text/x-python",
   "name": "python",
   "nbconvert_exporter": "python",
   "pygments_lexer": "ipython3",
   "version": "3.7.6"
  }
 },
 "nbformat": 4,
 "nbformat_minor": 1
}
