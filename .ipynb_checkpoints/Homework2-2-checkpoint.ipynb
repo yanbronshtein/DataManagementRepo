{
 "cells": [
  {
   "cell_type": "markdown",
   "metadata": {},
   "source": [
    "# Homework 2"
   ]
  },
  {
   "cell_type": "markdown",
   "metadata": {},
   "source": [
    "In this homework you will be working with json data and TinyDB. The overall task is to query the Citibikes NYC server ( https://gbfs.citibikenyc.com/gbfs/en/station_status.json ), store the data in a TinyDB database, and infer activities for the stations. Sample starter code relating to these subtasks was discussed in class.\n",
    "\n",
    "<b>Note that the API above is different from the one shown in class. The url is different and the fields in the data are named differently, so you will need to change some of the code shown in class. </b>\n",
    "\n",
    "You will be required to query the server at 3 different times of a day (preferably a weekday). Make sure that these times are spread apart by at least a couple of hours. 3 good times may be morning, afternoon, evening. \n",
    "\n",
    "You may query the data, save the results in 3 JSON files on your laptop, load the JSON files as JSON Objects, and then insert them into the database. This approach may be easier rather than querying the data live each time you test the code.\n",
    "\n",
    "\n",
    "Rename this file as <i>YourfirstinitialLastname.ipynb</i> and insert your code in the appropriate parts. For example, John Doe would name his solution file as <i>JDoe.ipynb</i> . \n",
    "\n",
    "Your database file should be named <i>citibikenyc-YourfirstinitialLastname.json</i> . John Doe's database file would be named <i>citibikenyc-JDoe.json</i> . \n",
    "\n",
    "Your submission should consist of both the ipynb file and the json file. \n",
    "\n",
    "<b>IMPORTANT</b> (1) Make sure that your code is organized, documented, and contains only what is being asked for in the question. (2) This homework requires you to run the code at three different times of a day (preferably a weekday), so make sure that you start the homework early.  "
   ]
  },
  {
   "cell_type": "markdown",
   "metadata": {},
   "source": [
    "## Part I (20 points)\n",
    "\n",
    "Query the Citibikes server and load the result into a JSON Array. \n",
    "\n",
    "The JSON Array will have JSON objects containing information for each station as shown below. Note the field names. The id of the station is stored in a <b>string</b> field named <b>station_id</b>.\n",
    "\n",
    "{'legacy_id': '72',\n",
    " 'num_docks_available': 50,\n",
    " 'is_returning': 1,\n",
    " 'last_reported': 1614990854,\n",
    " 'is_renting': 1,\n",
    " 'num_docks_disabled': 0,\n",
    " 'eightd_has_available_keys': False,\n",
    " 'is_installed': 1,\n",
    " 'num_bikes_disabled': 2,\n",
    " 'num_ebikes_available': 0,\n",
    " <b>'station_id': '72'</b>,\n",
    " 'station_status': 'active',\n",
    " 'num_bikes_available': 3}\n",
    "\n",
    "Load the JSON Array into a Pandas DataFrame and display the first 10 rows. "
   ]
  },
  {
   "cell_type": "code",
   "execution_count": null,
   "metadata": {},
   "outputs": [],
   "source": [
    "### insert your solution below\n",
    "# After you get the data from the server, you will need to use the line below to load the JSON data. \n",
    "# Note that this is different from the code shown in class because the API has changed.\n",
    "# stations = json.loads(response.content.decode('utf-8'))['data']['stations']"
   ]
  },
  {
   "cell_type": "code",
   "execution_count": null,
   "metadata": {},
   "outputs": [],
   "source": []
  },
  {
   "cell_type": "code",
   "execution_count": null,
   "metadata": {},
   "outputs": [],
   "source": []
  },
  {
   "cell_type": "code",
   "execution_count": null,
   "metadata": {},
   "outputs": [],
   "source": []
  },
  {
   "cell_type": "markdown",
   "metadata": {},
   "source": [
    "## Part II (20 points)\n",
    "\n",
    "Save your data into a TinyDB database with the following modifications: \n",
    "\n",
    "<i>num_bikes_available</i> and <i>last_reported</i> should both be lists of their singleton values. For example, the earlier record would look like the following in the database: \n",
    "\n",
    "{'legacy_id': '72',\n",
    " 'num_docks_available': 50,\n",
    " 'is_returning': 1,\n",
    " <b>'last_reported': [1614990854]</b>,\n",
    " 'is_renting': 1,\n",
    " 'num_docks_disabled': 0,\n",
    " 'eightd_has_available_keys': False,\n",
    " 'is_installed': 1,\n",
    " 'num_bikes_disabled': 2,\n",
    " 'num_ebikes_available': 0,\n",
    " 'station_id': '72',\n",
    " 'station_status': 'active',\n",
    " <b>'num_bikes_available': [3]</b>}\n",
    "\n",
    "(The last_reported field is in Epoch time, a common way of expressing timestamps in datastores. Try to understand what this time means through an internet search.) \n",
    "\n",
    "Query your database for two different station ids and show the results of your query. The results should look similar to the record above."
   ]
  },
  {
   "cell_type": "code",
   "execution_count": null,
   "metadata": {},
   "outputs": [],
   "source": [
    "### insert your solution here"
   ]
  },
  {
   "cell_type": "code",
   "execution_count": null,
   "metadata": {},
   "outputs": [],
   "source": []
  },
  {
   "cell_type": "code",
   "execution_count": null,
   "metadata": {},
   "outputs": [],
   "source": []
  },
  {
   "cell_type": "code",
   "execution_count": null,
   "metadata": {},
   "outputs": [],
   "source": []
  },
  {
   "cell_type": "markdown",
   "metadata": {},
   "source": [
    "## Part III (20 points)\n",
    "\n",
    "Query the server at least two additional times on the same day as Part I to collect two additional datasets. Make sure that these times are spread apart by at least a couple of hours. You could, for example, query in the morning for Part I and in the afternoon and evening for this part. \n",
    "\n",
    "(You may query for all the data on a single day, save the results in 3 JSON files and load the JSON files as JSON Objects and then insert them into the database. This approach may be easier rather than querying the data live each time you test the code.)\n",
    "\n",
    "Merge the collected data for the fields <i>num_bikes_available</i> and <i>last_reported</i> for each station into the database by appending to the appropriate lists in the database. Note that this operation may take a while to complete. \n",
    "\n",
    "IMPORTANT: Define a function that you will invoke twice to add the 2 sets of data.\n",
    "\n",
    "The data for a station may look like the following after the merge:\n",
    "\n",
    "[{'legacy_id': '79',\n",
    "  'num_docks_available': 13,\n",
    "  'is_returning': 1,\n",
    "  <b>'last_reported': [1614989202, 1614989202, 1614991805]</b>,\n",
    "  'is_renting': 1,\n",
    "  'num_docks_disabled': 0,\n",
    "  'eightd_has_available_keys': False,\n",
    "  'is_installed': 1,\n",
    "  'num_bikes_disabled': 1,\n",
    "  'num_ebikes_available': 2,\n",
    "  'station_id': '79',\n",
    "  'station_status': 'active',\n",
    "  <b>'num_bikes_available': [19, 16, 20]</b>}]\n",
    "\n",
    "Note: It is possible, but not highly likely, that a station may be added or deleted between different queries. You may get some errors if this happens. It is good to guard against this event. \n",
    "\n",
    "Query your database for the same station ids as in Part II and show the results."
   ]
  },
  {
   "cell_type": "code",
   "execution_count": null,
   "metadata": {},
   "outputs": [],
   "source": [
    "### insert your solution here"
   ]
  },
  {
   "cell_type": "code",
   "execution_count": null,
   "metadata": {},
   "outputs": [],
   "source": []
  },
  {
   "cell_type": "code",
   "execution_count": null,
   "metadata": {},
   "outputs": [],
   "source": []
  },
  {
   "cell_type": "code",
   "execution_count": null,
   "metadata": {},
   "outputs": [],
   "source": []
  },
  {
   "cell_type": "code",
   "execution_count": null,
   "metadata": {},
   "outputs": [],
   "source": []
  },
  {
   "cell_type": "markdown",
   "metadata": {},
   "source": [
    "## Part IV (20 points)\n",
    "\n",
    "Insert an additional field named <i>activity</i> into the record for each station in the database. The value for this field should capture the absolute difference between the number of available bikes for each successive pair of queries to the citibikenyc server. For example, the record for station 79 would look like the following: \n",
    "\n",
    "[{'legacy_id': '79',\n",
    "  'num_docks_available': 13,\n",
    "  'is_returning': 1,\n",
    "  'last_reported': [1614989202, 1614989202, 1614991805],\n",
    "  'is_renting': 1,\n",
    "  'num_docks_disabled': 0,\n",
    "  'eightd_has_available_keys': False,\n",
    "  'is_installed': 1,\n",
    "  'num_bikes_disabled': 1,\n",
    "  'num_ebikes_available': 2,\n",
    "  'station_id': '79',\n",
    "  'station_status': 'active',\n",
    "  'num_bikes_available': [19, 16, 20] <b>'activity': [3, 4]</b>}]\n",
    "\n",
    "Note: The activity field is capturing the number of bikes rented out/returned in the two time intervals between the three queries to the citibikenyc server. \n",
    "\n",
    "\n",
    "Query your database for the same station ids as in Part III and IV and show the results."
   ]
  },
  {
   "cell_type": "code",
   "execution_count": null,
   "metadata": {},
   "outputs": [],
   "source": [
    "### insert your code here"
   ]
  },
  {
   "cell_type": "code",
   "execution_count": null,
   "metadata": {},
   "outputs": [],
   "source": []
  },
  {
   "cell_type": "code",
   "execution_count": null,
   "metadata": {},
   "outputs": [],
   "source": []
  },
  {
   "cell_type": "code",
   "execution_count": null,
   "metadata": {},
   "outputs": [],
   "source": []
  },
  {
   "cell_type": "markdown",
   "metadata": {},
   "source": [
    "## Part V (20 points)¶\n",
    "\n",
    "Query your database to compute the number of stations with high activity (>=20) and low activity (<=5) in each of the two time intervals. For instance, station 79 would be categorized as a low activity station in both intervals. Display your results. They may look like the following (the actual numbers may differ):\n",
    "\n",
    "High Activity Stations [10, 29]\n",
    "\n",
    "Low Activity Stations [205, 308]"
   ]
  },
  {
   "cell_type": "code",
   "execution_count": null,
   "metadata": {},
   "outputs": [],
   "source": []
  },
  {
   "cell_type": "code",
   "execution_count": null,
   "metadata": {},
   "outputs": [],
   "source": []
  }
 ],
 "metadata": {
  "kernelspec": {
   "display_name": "Python 3",
   "language": "python",
   "name": "python3"
  },
  "language_info": {
   "codemirror_mode": {
    "name": "ipython",
    "version": 3
   },
   "file_extension": ".py",
   "mimetype": "text/x-python",
   "name": "python",
   "nbconvert_exporter": "python",
   "pygments_lexer": "ipython3",
   "version": "3.7.6"
  },
  "toc": {
   "base_numbering": 1,
   "nav_menu": {},
   "number_sections": true,
   "sideBar": true,
   "skip_h1_title": false,
   "title_cell": "Table of Contents",
   "title_sidebar": "Contents",
   "toc_cell": false,
   "toc_position": {},
   "toc_section_display": true,
   "toc_window_display": true
  }
 },
 "nbformat": 4,
 "nbformat_minor": 2
}
